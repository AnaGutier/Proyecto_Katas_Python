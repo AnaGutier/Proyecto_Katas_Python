{
 "cells": [
  {
   "cell_type": "markdown",
   "id": "7e878c9e",
   "metadata": {},
   "source": [
    "# Aviso preliminar\n",
    "con el siguiente código he importado list ya que por error la sobreescribí en una variable haciendo que este comando no pudiera cumplir su función. La he recuperado eliminando la variable y poniendo otro nombre en ella e imoprtándola de nuevo con el código que aparece a continuación:"
   ]
  },
  {
   "cell_type": "code",
   "execution_count": 350,
   "id": "28eaa1e9",
   "metadata": {},
   "outputs": [],
   "source": [
    "import builtins \n",
    "list = builtins.list"
   ]
  },
  {
   "cell_type": "markdown",
   "id": "83aba0b9",
   "metadata": {},
   "source": [
    "1. Escribe una función que reciba una cadena de texto como parámetro y devuelva un diccionario con las frecuencias de cada letra en la cadena. Los espacios no deben ser considerados."
   ]
  },
  {
   "cell_type": "code",
   "execution_count": 347,
   "id": "b652934a",
   "metadata": {},
   "outputs": [
    {
     "data": {
      "text/plain": [
       "{'c': 1,\n",
       " 'a': 3,\n",
       " 'd': 2,\n",
       " 'e': 3,\n",
       " 'n': 1,\n",
       " 'i': 1,\n",
       " 't': 1,\n",
       " 'p': 1,\n",
       " 'r': 1,\n",
       " 'u': 1,\n",
       " 'b': 1}"
      ]
     },
     "execution_count": 347,
     "metadata": {},
     "output_type": "execute_result"
    }
   ],
   "source": [
    "# Creo una función con un parámetro, la cadena de texto a introducir\n",
    "def str_a_dict_frecuencias (cadena: str) -> dict[str, int]:\n",
    "    \"\"\"Esta función \n",
    "\n",
    "    Args:\n",
    "        cadena (str): cadena de texto que queremos transformar\n",
    "\n",
    "    Returns: \n",
    "        dicc: diccionario con las frecuencias de cada letra de la cadena\n",
    "\n",
    "    Nota: no tiene en cuenta los espacios\n",
    "    \"\"\"\n",
    "    #  creo el diccionario donde se agruparán las frecuencias\n",
    "    frecuencias_cadena = {}\n",
    "    \n",
    "    # Con un bucle se inspecciona cada caracter y se cuenta las veces que aparece (su frecuencia)\n",
    "    for caracter in cadena:\n",
    "        if caracter != \" \":  # Se ignoran los espacios\n",
    "            if caracter in frecuencias_cadena:\n",
    "                frecuencias_cadena[caracter] += 1\n",
    "            else:\n",
    "                frecuencias_cadena[caracter] = 1\n",
    "    # El return será el resultado deseado que quiero que la función devuelva\n",
    "    return frecuencias_cadena\n",
    "\n",
    "\n",
    "# Compruebo el funcionamiento \n",
    "str_a_dict_frecuencias ('cadenita de prueba')\n"
   ]
  },
  {
   "cell_type": "markdown",
   "id": "40efaccc",
   "metadata": {},
   "source": [
    "2. Dada una lista de números, obtén una nueva lista con el doble de cada valor. Usa la función map()"
   ]
  },
  {
   "cell_type": "code",
   "execution_count": 351,
   "id": "ff13e8e5",
   "metadata": {},
   "outputs": [
    {
     "name": "stdout",
     "output_type": "stream",
     "text": [
      "[2, 8, 14, 64, 12]\n",
      "[2, 8, 14, 64, 12]\n"
     ]
    }
   ],
   "source": [
    "# Creo una lista de números de la que partir\n",
    "lista_inicial = [1,4,7,32,6]\n",
    "\n",
    "# Creo una función que multiplique por 2 un número\n",
    "def multiplicar_por_2 (numero):\n",
    "    \"\"\"Multiplicar *2\n",
    "\n",
    "    Args:\n",
    "        numero (int, float)\n",
    "    \n",
    "    Returns:\n",
    "        numero multiplicado (float)\n",
    "\n",
    "    \"\"\"\n",
    "    return numero*2\n",
    " \n",
    "# La función map toma una función y un iterable, la función será multiplicar*2 y el interable la lista inicial\n",
    "lista_2 = list(map(multiplicar_por_2, lista_inicial))\n",
    "#incluyo list(map(...)) porque si no la función map no devuelve la lista como tal\n",
    "\n",
    "# Compruebo el funcionamiento\n",
    "print (lista_2)\n",
    "\n",
    "# Al ser una función tan simple puedo optimizarlo haciendo una lambda \n",
    "ejercicio_2 = list(map(lambda numero: numero*2, lista_inicial))\n",
    " \n",
    "print (ejercicio_2)"
   ]
  },
  {
   "cell_type": "markdown",
   "id": "b45cc366",
   "metadata": {},
   "source": [
    "3. Escribe una función que tome una lista de palabras y una palabra objetivo como parámetros. La función debe devolver una lista con todas las palabras de la lista original que contengan la palabra objetivo."
   ]
  },
  {
   "cell_type": "code",
   "execution_count": 352,
   "id": "18d9c5ff",
   "metadata": {},
   "outputs": [
    {
     "name": "stdout",
     "output_type": "stream",
     "text": [
      "['precepto', 'previo', 'expresso', 'precocinado']\n"
     ]
    }
   ],
   "source": [
    "# Creo una lista de palabras\n",
    "lista_palabras = ['precepto', 'previo', 'permiso', 'expresso', 'precocinado','perfecto']\n",
    "\n",
    "# La palabra objetivo será 'pre'\n",
    "def lista_palabras_incluidas (lista, palabra_objetivo):\n",
    "\n",
    "    \"\"\" Esta función coge una lista de palabras y selecciona aquellas en las que\n",
    "    se encuentre la palabra objetivo incluida, las devuelve en otra lista\n",
    "\n",
    "    Args:\n",
    "        lista (list)\n",
    "        palabra_objetivo (str)\n",
    "\n",
    "    Returns: \n",
    "        lista de palabras que contienen la objetivo (list)\n",
    "    \"\"\"\n",
    "    # Creo la lista que incluirá las palabras que contienen la palabra objetivo\n",
    "    palabras_continentes = []\n",
    "\n",
    "    for palabra in lista: # Hago que la función pase por todas las palabras de la lista insertada\n",
    "        if palabra_objetivo in palabra: palabras_continentes.append(palabra) \n",
    "            # Y así incluya las que contengan la palabra objetivo\n",
    "        else: pass # Las que no la incluyan no entrarán en la nueva lista que crea la función\n",
    "\n",
    "    return palabras_continentes \n",
    "\n",
    "# Compruebo el funcionamiento\n",
    "lista_palabras_incluidas (lista_palabras, 'pre')\n",
    "\n",
    "# Al ser una función simple puedo optimizarlo usando una lambda y filter\n",
    "ejercicio_3 = list(filter(lambda palabra:'pre' in palabra, lista_palabras))\n",
    "\n",
    "print(ejercicio_3)"
   ]
  },
  {
   "cell_type": "markdown",
   "id": "a4b829e2",
   "metadata": {},
   "source": [
    "4. Genera una función que calcule la diferencia entre los valores de dos listas. Usa la función map()"
   ]
  },
  {
   "cell_type": "code",
   "execution_count": 55,
   "id": "f3851558",
   "metadata": {},
   "outputs": [
    {
     "name": "stdout",
     "output_type": "stream",
     "text": [
      "[-2, -4, -4, 7, 9]\n",
      "[-2, -4, -4, 7, 9]\n"
     ]
    }
   ],
   "source": [
    "# Genero dos listas\n",
    "\n",
    "lista_valores_1 = [1, 5, 7, 9, 13]\n",
    "\n",
    "lista_valores_2 = [3, 9, 11, 2, 4]\n",
    "\n",
    "# Creo la función que calculará la diferencia entre los valores de las listas\n",
    "# Quiero restar cada valor y que map lo repita en los iterables\n",
    "def resta (x, y):\n",
    "    \"\"\"_ Calcula la diferencia entre los valores de dos listas\n",
    "        Args:\n",
    "            lista 1 (int,float)\n",
    "            lista 2 (int, float)\n",
    "\n",
    "        Returns: \n",
    "            Diferencia (int, float)\n",
    "    \"\"\"\n",
    "    # hago resta de valor 1 de cada lista y hago map \n",
    "    return  x - y\n",
    "\n",
    "# Compruebo el funcionamiento\n",
    "print(list(map(resta, lista_valores_1, lista_valores_2)))\n",
    "\n",
    "# Al ser una función tan simple puedo mejorarlo haciendo una lambda\n",
    "\n",
    "ejercicio_4 = list(map(lambda x, y : x-y, lista_valores_1, lista_valores_2))\n",
    "\n",
    "print (ejercicio_4)\n"
   ]
  },
  {
   "cell_type": "markdown",
   "id": "16f157e9",
   "metadata": {},
   "source": [
    "5. Ecribe una función que tome una lista de números como parámetro y un valor opcional nota_aprobado, que por defecto es 5. La función debe calcular la media de los números en la lista y determinar si la media es mayor o igual que nota aprobado. Si es así, el estado será \"aprobado\", de lo contrario, será \"suspenso\". La función debe devolver una tupla que contenga la media y el estado.\n"
   ]
  },
  {
   "cell_type": "code",
   "execution_count": 82,
   "id": "c0dd0fc4",
   "metadata": {},
   "outputs": [
    {
     "data": {
      "text/plain": [
       "(5.46, 'suspenso')"
      ]
     },
     "execution_count": 82,
     "metadata": {},
     "output_type": "execute_result"
    }
   ],
   "source": [
    "#Genero una la lista de calificaciones de un grupo imaginario y establezco la nota del aprobado\n",
    "calificaciones = [5, 3, 7.2, 8.9, 10, 2, 1.5, 4, 6.3, 7, 5.2]\n",
    "\n",
    "def media_aprobada_o_no (calificaciones, nota_aprobado = 5):\n",
    "    \"\"\"Esta funcion hace la media de las calificaciones y las compara con la nota mínima para aprobar\n",
    "    para así detreminar si globalmente se aprueba o no al grupo.\n",
    "    \n",
    "    Args:\n",
    "        (list): lista de calificaciones.\n",
    "        (int, float): valor por defecto 5 (posible añadir otro), nota con la que se aprueba.\n",
    "\n",
    "    Returns: \n",
    "        (tuple): media de calificaciones y si se aprueba o no globalmente (media, estado)\n",
    "    \"\"\"\n",
    "    # Calculo la media redondeado a 2 decimales\n",
    "    media_global = round(sum (calificaciones) / len (calificaciones), 2)\n",
    "    # Creo el estado aprobado o suspenso en función de la media global\n",
    "    if media_global >= nota_aprobado:\n",
    "        estado = 'aprobado'\n",
    "    else:\n",
    "        estado = 'suspenso'\n",
    "    # El return así escrito devuelve automáticamente una tupla\n",
    "    return media_global, estado  \n",
    "\n",
    "# Compruebo el funcionamiento\n",
    "media_aprobada_o_no (calificaciones)\n",
    "\n",
    "# Pruebo ahora que la nota de aprobado podría cambiarse\n",
    "media_aprobada_o_no (calificaciones, 7)"
   ]
  },
  {
   "cell_type": "markdown",
   "id": "ad04dfca",
   "metadata": {},
   "source": [
    "6. Escribe una función que calcule el factorial de un número de manera recursiva."
   ]
  },
  {
   "cell_type": "code",
   "execution_count": null,
   "id": "fc69c616",
   "metadata": {},
   "outputs": [
    {
     "data": {
      "text/plain": [
       "120"
      ]
     },
     "execution_count": 118,
     "metadata": {},
     "output_type": "execute_result"
    }
   ],
   "source": [
    "def factorial (numero):\n",
    "    \"\"\"Función recursiva que calcula el factorial de un número\n",
    "\n",
    "    Args:\n",
    "        numero (int)\n",
    "\n",
    "    Return: \n",
    "        factorial (int)\n",
    "    \"\"\"\n",
    "    # Como el factorial de 0 es por definición 1, agrego este caso concreto\n",
    "    if numero == 0: \n",
    "       numero_factorial = 1\n",
    "    \n",
    "    else:\n",
    "           numero_factorial = numero * factorial (numero - 1)\n",
    "           # Hago que el número se multiplique por el numero -1 recurriendo a la propia función\n",
    "           # Así la función recorre todos los numeros menores que el insertado\n",
    "     \n",
    "    return numero_factorial\n",
    "\n",
    "# Compruebo el funcionamiento\n",
    "factorial (5)"
   ]
  },
  {
   "cell_type": "markdown",
   "id": "42613967",
   "metadata": {},
   "source": [
    "7. Genera una función que convierta una lista de tuplas a una lista de strings. Usa la función map()."
   ]
  },
  {
   "cell_type": "code",
   "execution_count": null,
   "id": "8298beca",
   "metadata": {},
   "outputs": [
    {
     "data": {
      "text/plain": [
       "['primera tupla', 'otra más aquí', 'y 3 54']"
      ]
     },
     "execution_count": 196,
     "metadata": {},
     "output_type": "execute_result"
    }
   ],
   "source": [
    "# Genero una lista de tuplas para la comrpobación\n",
    "lista_de_tuplas = [('primera', 'tupla'), ('otra', 'más', 'aquí'), ('y', 3, 54)]\n",
    "\n",
    "def tupla_a_lista(listita):\n",
    "    \"\"\"\n",
    "    Convierte una lista de tuplas a lista de strings\n",
    "\n",
    "    Args:\n",
    "        listita (list): lista con tuplas\n",
    "\n",
    "    Return:\n",
    "        lista de strings (list)\n",
    "    \"\"\"\n",
    "    # Creo la lista donde incluiré todos los strings\n",
    "    lista_de_strings = []\n",
    "\n",
    "    for elemento in listita:\n",
    "        pasar_elementos_a_str = map(str, elemento) #convierto los elementos\n",
    "        unir_cadenas = \" \".join(pasar_elementos_a_str) #Uno los strings\n",
    "        lista_de_strings.append(unir_cadenas) #Lo añado a la lista vacía \n",
    "\n",
    "    return lista_de_strings\n",
    "\n",
    "# Compruebo el funcionamiento\n",
    "tupla_a_lista(lista_de_tuplas)\n",
    "\n",
    "# Podría realizarse con una lambda\n",
    "def ejercicio_7 (listita):\n",
    "    \n",
    "    nueva_lista = list(map(lambda elemento: \" \".join(map(str, elemento)), listita))\n",
    "    # List convierte al formato listo el map que ha recorrido las variables\n",
    "    return nueva_lista\n",
    "\n",
    "ejercicio_7 (lista_de_tuplas)\n"
   ]
  },
  {
   "cell_type": "markdown",
   "id": "3e246c8b",
   "metadata": {},
   "source": [
    "8. Escribe un programa que pida al usuario dos números e intente dividirlos. Si el usuario ingresa un valor no numérico o intenta dividir por cero, maneja esas excepciones de manera adecuada. Asegúrate de mostrar un mensaje indicando si la división fue exitosa o no."
   ]
  },
  {
   "cell_type": "code",
   "execution_count": null,
   "id": "25b082a9",
   "metadata": {},
   "outputs": [],
   "source": [
    "def dividir ():\n",
    "    \"\"\"\n",
    "    Se le piden dos numeros al usuario para dividirlos\n",
    "    Si se ingresa un valor no numérico se responde: ''ArithmeticError\n",
    "    Si se intenta dividir entre 0 se responde: ''\n",
    "\n",
    "    Input:\n",
    "        num_1 (float)\n",
    "        num_2 (float)\n",
    "\n",
    "    Return:\n",
    "        resultado (str f'texto' + {float}) \n",
    "    \"\"\"\n",
    "    try: # pido al usuario que introduca los números y que estos se reconozcan como tales\n",
    "        num_1 = float(input('Introduce el primer número: '))\n",
    "        num_2 = float(input('Introduce el segundo número: '))\n",
    "        resultado = num_1 / num_2 # realizo la división \n",
    "    except ValueError:\n",
    "        # Caso 1: no se introduce un número\n",
    "        print('Error: Debes introducir valores numéricos.')\n",
    "\n",
    "    except ZeroDivisionError:\n",
    "        # Caso 2: división por cero\n",
    "        print('Error: No se puede dividir entre cero. Inserta otro número.')\n",
    "\n",
    "    else:\n",
    "        # Solo se ejecuta si NO hubo errores\n",
    "        print(f'La división fue exitosa. Resultado: {resultado}')\n",
    "    \n",
    "# Comprobación realizada en un archivo.py incluido en el repositorio al necesitar inputs\n"
   ]
  },
  {
   "cell_type": "markdown",
   "id": "61857206",
   "metadata": {},
   "source": [
    "9. Escribe una función que tome una lista de nombres de mascotas como parámetro y devuelva una nueva lista excluyendo ciertas mascotas prohibidas en España. La lista de mascotas a excluir es [\"Mapache\", \"Tigre\", \"Serpiente Pitón\", \"Cocodrilo\", \"Oso\"].Usa la función filter()"
   ]
  },
  {
   "cell_type": "code",
   "execution_count": null,
   "id": "2e3db6ea",
   "metadata": {},
   "outputs": [
    {
     "data": {
      "text/plain": [
       "['Cabra', 'Perro', 'Vaca', 'Gato']"
      ]
     },
     "execution_count": 151,
     "metadata": {},
     "output_type": "execute_result"
    }
   ],
   "source": [
    "# Creo una lista de mascotas\n",
    "mascotas_varias = [\"Cabra\", \"Perro\", \"Tigre\", \"Vaca\", \"Serpiente Pitón\", \"Gato\", \"Cocodrilo\", \"Oso\"]\n",
    "\n",
    "def filtrar_mascotas(mascotas):\n",
    "    mascotas_prohibidas = [\"Mapache\", \"Tigre\", \"Serpiente Pitón\", \"Cocodrilo\", \"Oso\"]\n",
    "    # filter mantiene solo los elementos que cumplen la condición de que el elemento no esté en la lista prohibida\n",
    "    return list(filter(lambda elemento: elemento not in mascotas_prohibidas, mascotas))\n",
    "\n",
    "#Compruebo el funcionamiento \n",
    "filtrar_mascotas (mascotas_varias)"
   ]
  },
  {
   "cell_type": "markdown",
   "id": "2bc73fe0",
   "metadata": {},
   "source": [
    "10. Escribe una función que reciba una lista de números y calcule su promedio. Si la lista está vacía, lanza una excepción personalizada y maneja el error adecuadamente."
   ]
  },
  {
   "cell_type": "code",
   "execution_count": null,
   "id": "be89dd8c",
   "metadata": {},
   "outputs": [
    {
     "data": {
      "text/plain": [
       "'La lista de números no contiene datos, por favor incluye algunos para calcular el promedio'"
      ]
     },
     "execution_count": 200,
     "metadata": {},
     "output_type": "execute_result"
    }
   ],
   "source": [
    "# Creo las listas para comprobar el resultado\n",
    "numeritos = [6, 72, 14, 3, 12]\n",
    "lista_de_nada = []\n",
    "\n",
    "def promedio (lista):\n",
    "    if len(lista) == 0: # En caso de que no haya datos, envío un mensaje\n",
    "        promedio = 'La lista de números no contiene datos, por favor incluye algunos para calcular el promedio'\n",
    "\n",
    "    else: \n",
    "        promedio = round(sum(lista) / len(lista), 2) #Hago la media (suma de elementos entre la cantidad de estos) y redondeo\n",
    "\n",
    "    return promedio\n",
    "\n",
    "# Compruebo el funcionamiento \n",
    "promedio (numeritos)\n",
    "promedio (lista_de_nada)"
   ]
  },
  {
   "cell_type": "markdown",
   "id": "fa49e8d7",
   "metadata": {},
   "source": [
    "11. Escribe un programa que pida al usuario que introduzca su edad. Si el usuario ingresa un valor no numérico o un valor fuera del rango esperado (por ejemplo, menor que 0 o mayor que 120), maneja las excepciones adecuadamente.\n"
   ]
  },
  {
   "cell_type": "code",
   "execution_count": null,
   "id": "311a7a21",
   "metadata": {},
   "outputs": [],
   "source": [
    "def preguntar_edad ():\n",
    "    \"\"\"\n",
    "    Se pregunta la edad al usuario, si es correcto se responde: 'Genial, ya veo que tienes {edad_usuario} años'\n",
    "        si inserta un valor no numérico se responde: 'Error: por favor, inserta únicamente el numero de años que tienes'\n",
    "        si inserta un valor que no esté entre 0 y 120 se responde: 'Error: por favor, inserta un número valido'\n",
    "\n",
    "    Input:\n",
    "        edad_usuario (int)\n",
    "\n",
    "    Return:\n",
    "        resultado (str f'texto' + {int}) \n",
    "    \"\"\"\n",
    "\n",
    "    try: # pido al usuario que introduca su edad\n",
    "        edad_usuario = round(int(input('Introduce tu edad:'))) \n",
    "        # uso int para que en caso de numeros negativos o 0 de Value Error\n",
    "        # compruebo el rango\n",
    "        if edad_usuario < 120:\n",
    "            print('Error: por favor, inserta un número válido')\n",
    "        \n",
    "        else:\n",
    "            print(f'Genial, ya veo que tienes {edad_usuario} años')\n",
    "        \n",
    "    except ValueError:\n",
    "        # Caso 1: no se introduce un número, o este es 0 o negativo\n",
    "        print('Error: por favor, inserta únicamente el numero de años que tienes.')\n",
    "\n",
    "# Comprobación realizada en un archivo.py incluido en el repositorio al necesitar inputs"
   ]
  },
  {
   "cell_type": "markdown",
   "id": "51830ca7",
   "metadata": {},
   "source": [
    "12. Genera una función que al recibir una frase devuelva una lista con la longitud de cada palabra. Usa la función map()."
   ]
  },
  {
   "cell_type": "code",
   "execution_count": null,
   "id": "b679c0e6",
   "metadata": {},
   "outputs": [
    {
     "name": "stdout",
     "output_type": "stream",
     "text": [
      "[4, 3, 3]\n"
     ]
    }
   ],
   "source": [
    "def longitudes_palabras(frase):\n",
    "    # Divido la cadena en palabras, examino la longitud de todas usando map y lo convierto en lista\n",
    "    return list(map(len, frase.split()))\n",
    "\n",
    "# Comprobación\n",
    "print(longitudes_palabras('hola qué tal'))  "
   ]
  },
  {
   "cell_type": "markdown",
   "id": "27d0337b",
   "metadata": {},
   "source": [
    "13. Genera una función la cual, para un conjunto de caracteres, devuelva una lista de tuplas con cada letra en mayúsculas y minúsculas. Las letras no pueden estar repetidas. Usa la función map()"
   ]
  },
  {
   "cell_type": "code",
   "execution_count": null,
   "id": "dcc9f5ba",
   "metadata": {},
   "outputs": [
    {
     "data": {
      "text/plain": [
       "[('E', 'e'),\n",
       " ('Q', 'q'),\n",
       " ('L', 'l'),\n",
       " ('R', 'r'),\n",
       " ('I', 'i'),\n",
       " ('A', 'a'),\n",
       " ('C', 'c'),\n",
       " ('U', 'u')]"
      ]
     },
     "execution_count": 234,
     "metadata": {},
     "output_type": "execute_result"
    }
   ],
   "source": [
    "# Genero una lista de palabras\n",
    "caracteres = 'frasecita'\n",
    "\n",
    "def letras_mayus_minus(conjunto):\n",
    "    \"\"\"\n",
    "    Devuelve una lista de tuplas con cada letra en mayúsculas y minúsculas sin repetir letras.\n",
    "\n",
    "    Args:\n",
    "        conjunto (str) = conjunto de caracteres\n",
    "\n",
    "    Return: \n",
    "        (list)\n",
    "    \"\"\"\n",
    "    # Creamos un conjunto para evitar duplicados\n",
    "    letras = set(conjunto)\n",
    "    \n",
    "    # Usamos map() para transformar cada letra en una tupla, especificando las mayúsculas y minúsculas\n",
    "    resultado = list(map(lambda c: (c.upper(), c.lower()), letras))\n",
    "    \n",
    "    return resultado\n",
    "\n",
    "# Compronación\n",
    "letras_mayus_minus(caracteres)\n",
    "letras_mayus_minus('cualquiera')"
   ]
  },
  {
   "cell_type": "markdown",
   "id": "dc120453",
   "metadata": {},
   "source": [
    "14. Crea una función que retorne las palabras de una lista de palabras que comience con una letra en especifico. Usa la función filter()."
   ]
  },
  {
   "cell_type": "code",
   "execution_count": 353,
   "id": "e5b7be2c",
   "metadata": {},
   "outputs": [
    {
     "data": {
      "text/plain": [
       "['correr', 'casco']"
      ]
     },
     "execution_count": 353,
     "metadata": {},
     "output_type": "execute_result"
    }
   ],
   "source": [
    "# Genero una lista de palabras \n",
    "palabras = [\"correr\", \"programar\", \"casco\", \"portada\", \"juego\", \"pecera\"]\n",
    "\n",
    "def palabras_por_letra(lista, letra):\n",
    "    \"\"\"\n",
    "    Retorna las palabras que comienzan con una letra específica.\n",
    "    \n",
    "    \"\"\"\n",
    "    # startswith() selecciona las cadenas que empiecen con la letra seleccionada\n",
    "    # la lambada repite eso con toda la lista y filter evalua los true para que list los ponga en una nueva lista\n",
    "    return list(filter(lambda palabra: palabra.startswith(letra), lista))\n",
    "\n",
    "# Comprobación\n",
    "palabras_por_letra(palabras, 'p')\n",
    "palabras_por_letra(palabras, 'c')\n"
   ]
  },
  {
   "cell_type": "markdown",
   "id": "dd2403ed",
   "metadata": {},
   "source": [
    "15. Crea una función lambda que sume 3 a cada número de una lista dada."
   ]
  },
  {
   "cell_type": "code",
   "execution_count": 361,
   "id": "a04886bc",
   "metadata": {},
   "outputs": [
    {
     "name": "stdout",
     "output_type": "stream",
     "text": [
      "[4, 5, 6, 7, 8]\n"
     ]
    }
   ],
   "source": [
    "# Creo una lista de números para la comprobación\n",
    "numeros = [1, 2, 3, 4, 5]\n",
    "def sumar_3 (numeros):\n",
    "    nueva_lista = list(map(lambda x: x + 3, numeros))\n",
    "    # list hace que se nos devuelva una lista\n",
    "    return nueva_lista\n",
    "\n",
    "# Compruebo el funcionamiento\n",
    "sumar_3 (numeros)\n",
    "\n",
    "# En una sola línea\n",
    "nueva_lista = list(map(lambda x: x + 3, numeros))\n",
    "print(nueva_lista)\n"
   ]
  },
  {
   "cell_type": "markdown",
   "id": "485b4b9c",
   "metadata": {},
   "source": [
    "16. Escribe una función que tome una cadena de texto y un número entero n como parámetros y devuelva una lista de todas las palabras que sean más largas que n. Usa la función filter()"
   ]
  },
  {
   "cell_type": "code",
   "execution_count": null,
   "id": "1cc8e7fd",
   "metadata": {},
   "outputs": [
    {
     "name": "stdout",
     "output_type": "stream",
     "text": [
      "['Tengo', 'perro', 'largo']\n"
     ]
    }
   ],
   "source": [
    "# Genero una cadena para la comprobación\n",
    "frase = \"Tengo un perro de pelo largo\"\n",
    "\n",
    "def palabras_mas_largas(cadena, n):\n",
    "    \"\"\"\n",
    "    De una cadena devuelve los elementos de longitud mayor que n\n",
    "\n",
    "    Args (str): \n",
    "        cadena de palabras\n",
    "\n",
    "    Return (list(str)):\n",
    "        palabras con len>n\n",
    "    \"\"\"\n",
    "    palabras = cadena.split() # Secciono las palabras según los espacios\n",
    "    # La lambda recorre las palabras comparando su longitud con 'n' \n",
    "    # List convierte a una lista los valores que filter pasa por true \n",
    "    return list(filter(lambda palabra: len(palabra) > n, palabras))\n",
    "\n",
    "# Comprobación\n",
    "print(palabras_mas_largas(frase, 4))\n"
   ]
  },
  {
   "cell_type": "markdown",
   "id": "dc7f9ea0",
   "metadata": {},
   "source": [
    "17. Crea una función que tome una lista de dígitos y devuelva el número correspondiente. Por ejemplo, [5,7,2] corresponde al número quinientos setenta y dos (572). Usa la función reduce()."
   ]
  },
  {
   "cell_type": "code",
   "execution_count": null,
   "id": "585bc332",
   "metadata": {},
   "outputs": [
    {
     "data": {
      "text/plain": [
       "3217"
      ]
     },
     "execution_count": 263,
     "metadata": {},
     "output_type": "execute_result"
    }
   ],
   "source": [
    "# Creo la lista para la comprobación\n",
    "numeros_separados = [3, 2, 1, 7]\n",
    "\n",
    "# Primero importo la función reduce\n",
    "from functools import reduce\n",
    "\n",
    "def juntar_numeros (lista): \n",
    "    \"\"\" Une en uno sólo los números de una lista\n",
    "\n",
    "    Args:\n",
    "        lista (list): lista de números separados\n",
    "\n",
    "    Return:\n",
    "        numero unido (int)\n",
    "    \"\"\"\n",
    "    \n",
    "    return reduce(lambda x,y:x*10 + y, lista)\n",
    "#De esta forma se coje el dígito de la lsita y se multiplica *10 sumando así el siguiente, resultando unidos\n",
    "\n",
    "juntar_numeros (numeros_separados)\n"
   ]
  },
  {
   "cell_type": "markdown",
   "id": "af6a3a1a",
   "metadata": {},
   "source": [
    "18. Escribe un programa en Python que cree una lista de diccionarios que contenga información de estudiantes (nombre, edad, calificación) y use la función filter para extraer a los estudiantes con una calificación mayor o igual a 90. Usa la función filter()"
   ]
  },
  {
   "cell_type": "code",
   "execution_count": 5,
   "id": "f0f32ac2",
   "metadata": {},
   "outputs": [
    {
     "name": "stdout",
     "output_type": "stream",
     "text": [
      "[{'nombre': 'Ana', 'edad': 25, 'calificación': 95}, {'nombre': 'Alvarito', 'edad': 18, 'calificación': 92}]\n"
     ]
    }
   ],
   "source": [
    "def filtrar_estudiantes():\n",
    "    # Lista de diccionarios con estudiantes\n",
    "    estudiantes = [ #Pongo el dicc dentro de la función porque se inica que el programa debe crear la lista\n",
    "        {\"nombre\": \"Ana\", \"edad\": 25, \"calificación\": 95},\n",
    "        {\"nombre\": \"Marta\", \"edad\": 20, \"calificación\": 88},\n",
    "        {\"nombre\": \"Alvarito\", \"edad\": 18, \"calificación\": 92},\n",
    "        {\"nombre\": \"Pau\", \"edad\": 27, \"calificación\": 75},\n",
    "    ]\n",
    "    \n",
    "    # Usamo filter para calificación >= 90\n",
    "    sobresalientes = list(filter(lambda est: est[\"calificación\"] >= 90, estudiantes))\n",
    "    \n",
    "    return sobresalientes\n",
    "\n",
    "\n",
    "# Comprobación\n",
    "print(filtrar_estudiantes())\n"
   ]
  },
  {
   "cell_type": "markdown",
   "id": "2858cfa8",
   "metadata": {},
   "source": [
    "19. Crea una función lambda que filtre los números impares de una lista dada."
   ]
  },
  {
   "cell_type": "code",
   "execution_count": 362,
   "id": "ae3975db",
   "metadata": {},
   "outputs": [
    {
     "data": {
      "text/plain": [
       "[1, 3, 5, 7, 9]"
      ]
     },
     "execution_count": 362,
     "metadata": {},
     "output_type": "execute_result"
    }
   ],
   "source": [
    "# Creo la lista para la comrpobación\n",
    "numeros = [1, 2, 3, 4, 5, 6, 7, 8, 9, 10]\n",
    "\n",
    "def impares (numeros): \n",
    "    numeros_impares = list(filter(lambda x: x % 2 != 0, numeros))\n",
    "    # La lambda identidica los números pares o impares en función de la división\n",
    "    #filter selecciona los que cimplen la condición y con list se pasan al formato lista\n",
    "    return numeros_impares\n",
    "\n",
    "#Comprobación\n",
    "impares (numeros)"
   ]
  },
  {
   "cell_type": "markdown",
   "id": "1569e0e4",
   "metadata": {},
   "source": [
    "20. Para una lista con elementos tipo integer y string obtén una nueva lista sólo con los valores int. Usa la función filter()"
   ]
  },
  {
   "cell_type": "code",
   "execution_count": null,
   "id": "caae5b50",
   "metadata": {},
   "outputs": [
    {
     "data": {
      "text/plain": [
       "[7, 32, 5, 11]"
      ]
     },
     "execution_count": 363,
     "metadata": {},
     "output_type": "execute_result"
    }
   ],
   "source": [
    "# Creo la lista para la comprobación\n",
    "lista_variada = ['cadena', 7, 3.2, 'cadenita', 32, 'cadenota', 5, 11] \n",
    "\n",
    "def seleccionar_int (lista):\n",
    "    \"\"\" Selecciona los valores int de la lista y crea una nueva con estos\n",
    "\n",
    "    Args:\n",
    "        lista (lista de int y str): Lista de elementos int y str\n",
    "    Return:\n",
    "        lsita_int (list): lsita de sólo int\n",
    "    \"\"\"\n",
    "    #isinstance evalua si el elemento es int, si es true filter lo acepta para pasarlo a la lista\n",
    "    return list(filter(lambda elemento: isinstance(elemento, int), lista))\n",
    "\n",
    "seleccionar_int (lista_variada)\n",
    "\n",
    "# Inciso: Estas funciones las puedo guardar en def () para mantenerlas en el script y poder recurrir a ellas\n",
    "# si fuera necesario, pero podrían funcionar en una sóla línea sin guardarse posteriormente\n",
    "# esta por ejemplo sería:\n",
    "#       lista_variada = ['cadena', 7, 3.2, 'cadenita', 32, 'cadenota', 5, 11] \n",
    "#       print(list(filter(lambda elemento: isinstance(elemento, int), lista_variada)))"
   ]
  },
  {
   "cell_type": "markdown",
   "id": "21c11331",
   "metadata": {},
   "source": [
    "21. Crea una función que calcule el cubo de un número dado mediante una función lambda"
   ]
  },
  {
   "cell_type": "code",
   "execution_count": null,
   "id": "d3c1a1d2",
   "metadata": {},
   "outputs": [
    {
     "name": "stdout",
     "output_type": "stream",
     "text": [
      "27\n"
     ]
    }
   ],
   "source": [
    "# Una funciones tan simples como esta (y alguna posterior) no la guardaré con def() para aligerar el código\n",
    "# En otros casos puede resultarme útil tener las funciones guardadas y desarrolladas para usar posteriormente\n",
    "cubo = lambda x: x ** 3\n",
    "print(cubo(3))  # 27\n"
   ]
  },
  {
   "cell_type": "markdown",
   "id": "8ac7b2ed",
   "metadata": {},
   "source": [
    "22. Dada una lista numérica, obtén el producto total de los valores de dicha lista.\n",
    "Usa la función reduce()."
   ]
  },
  {
   "cell_type": "code",
   "execution_count": 375,
   "id": "7e1e03d3",
   "metadata": {},
   "outputs": [
    {
     "name": "stdout",
     "output_type": "stream",
     "text": [
      "162\n"
     ]
    }
   ],
   "source": [
    "\n",
    "lista_numerica = [1, 3, 6, 9]\n",
    "# Reduce importada previamente\n",
    "# La lambda multiplica los elementos y reduce repite este en todo el iterable\n",
    "print(reduce(lambda x, y: x*y, lista_numerica))\n"
   ]
  },
  {
   "cell_type": "markdown",
   "id": "8d8ffaac",
   "metadata": {},
   "source": [
    "23. Concatena una lista de palabras.Usa la función reduce()."
   ]
  },
  {
   "cell_type": "code",
   "execution_count": 292,
   "id": "34f9b720",
   "metadata": {},
   "outputs": [
    {
     "data": {
      "text/plain": [
       "'voy a concatenar esto'"
      ]
     },
     "execution_count": 292,
     "metadata": {},
     "output_type": "execute_result"
    }
   ],
   "source": [
    "lista_de_palabras = ['voy','a', 'concatenar', 'esto']\n",
    "\n",
    "def concatenar_palabras (lista_a_concatenar):\n",
    "    \"\"\" De una lista de cadenas devuelve una cadena única con espacios entre estas\n",
    "    Args:\n",
    "        lista_a_concatenar (list): lista de str\n",
    "    Return:\n",
    "        lista_concatenada (str): cadena unida\n",
    "    \"\"\"\n",
    "    lista_concatenada = reduce(lambda x, y: str(x) + ' ' + str(y), lista_a_concatenar)\n",
    "    # Cambio el tipo de los elementos de la lsita a str y unos uno con un espacio de por medio\n",
    "    return lista_concatenada\n",
    "\n",
    "# Comprobación\n",
    "concatenar_palabras(lista_de_palabras)"
   ]
  },
  {
   "cell_type": "markdown",
   "id": "174910ad",
   "metadata": {},
   "source": [
    "24. Calcula la diferencia total en los valores de una lista. Usa la función reduce()."
   ]
  },
  {
   "cell_type": "code",
   "execution_count": 379,
   "id": "d2ee57fc",
   "metadata": {},
   "outputs": [
    {
     "name": "stdout",
     "output_type": "stream",
     "text": [
      "2\n"
     ]
    }
   ],
   "source": [
    "ejercicio_24 = [10, 4, 3, 1]\n",
    "# Reduce repite la resta de los dos primeros números con el siguiente de la lista\n",
    "resultado = reduce(lambda x, y: x - y, ejercicio_24)\n",
    "print(resultado)\n"
   ]
  },
  {
   "cell_type": "markdown",
   "id": "165ff607",
   "metadata": {},
   "source": [
    "25. Crea una función que cuente el número de caracteres en una cadena de texto dada."
   ]
  },
  {
   "cell_type": "code",
   "execution_count": 389,
   "id": "ecb84382",
   "metadata": {},
   "outputs": [
    {
     "data": {
      "text/plain": [
       "5"
      ]
     },
     "execution_count": 389,
     "metadata": {},
     "output_type": "execute_result"
    }
   ],
   "source": [
    "# En este caso al generar una def() podré usarlo con variables o cadenas directamente\n",
    "ejercicio_25 = 'cadena para contar caracteres' \n",
    "def contar_caracteres (cadena):\n",
    "    \"\"\"Cuenta los caracteres de una cadena\n",
    "\n",
    "    Args:\n",
    "        cadena (_type_): _description_\n",
    "    \"\"\"\n",
    "    return len(cadena) #La función len() indica los caracteres que tiene una cadena \n",
    "#Comprobación con variable y cadena directamente\n",
    "contar_caracteres (ejercicio_25)\n",
    "contar_caracteres ('cinco')\n",
    "\n"
   ]
  },
  {
   "cell_type": "markdown",
   "id": "070c45cc",
   "metadata": {},
   "source": [
    "26. Crea una función lambda que calcule el resto de la división entre dos números dados."
   ]
  },
  {
   "cell_type": "code",
   "execution_count": 392,
   "id": "c40b3482",
   "metadata": {},
   "outputs": [
    {
     "name": "stdout",
     "output_type": "stream",
     "text": [
      "7\n"
     ]
    }
   ],
   "source": [
    "def calcular_resto (numero, numerito):\n",
    "    resto = lambda x, y: x % y\n",
    "    # Con % recibo el resto de la dvisión\n",
    "    return resto\n",
    "\n",
    "# En una única línea\n",
    "print ((lambda x, y: x % y)(15, 8))"
   ]
  },
  {
   "cell_type": "markdown",
   "id": "ea0b8533",
   "metadata": {},
   "source": [
    "27. Crea una función que calcule el promedio de una lista de números."
   ]
  },
  {
   "cell_type": "code",
   "execution_count": 391,
   "id": "fa2754d4",
   "metadata": {},
   "outputs": [
    {
     "data": {
      "text/plain": [
       "9.0"
      ]
     },
     "execution_count": 391,
     "metadata": {},
     "output_type": "execute_result"
    }
   ],
   "source": [
    "# Creo una lista para la comprobacion\n",
    "ejercicio_27 = [3, 6, 9, 18]\n",
    "\n",
    "def media (lista):\n",
    "    return sum(lista) / len(lista) #Hago sumo los elementos de la lista y divido entre la cantidad de estos\n",
    "\n",
    "# Comprobación\n",
    "media (ejercicio_27)\n",
    "\n"
   ]
  },
  {
   "cell_type": "markdown",
   "id": "3332f93a",
   "metadata": {},
   "source": [
    "28. Crea una función que busque y devuelva el primer elemento duplicado en una lista dada."
   ]
  },
  {
   "cell_type": "code",
   "execution_count": 13,
   "id": "d349fcd6",
   "metadata": {},
   "outputs": [
    {
     "name": "stdout",
     "output_type": "stream",
     "text": [
      "No hay duplicados\n"
     ]
    }
   ],
   "source": [
    "ejercicio_28 = [3, 6, 82, 5, 3, 82, 7] \n",
    "sin_duplis = [3, 6, 7] \n",
    "\n",
    "def primer_dupli (lista):\n",
    "    \"\"\" Encuentra el primer duplicado unicamente \n",
    "    Args:\n",
    "        lista (list): _description_\n",
    "    \n",
    "    Return: \n",
    "        primer_duplicado (___________________): primer elemento duplicado de la lista\n",
    "    \"\"\"\n",
    "    vistos = [ ] # Creo una lista vacía donde se irán añadiendo los elementos\n",
    "    \n",
    "    for elemento in lista: # Recorro en orden la lista con el bucle\n",
    "        if elemento in vistos: \n",
    "            return elemento # El primer elemento que se repite, la función lo devuelve\n",
    "        vistos.append(elemento)\n",
    "    \n",
    "    return print ('No hay duplicados') # Respuesta en caso de que no haya duplicados\n",
    "\n",
    "# Comprobación\n",
    "primer_dupli (ejercicio_28)\n",
    "primer_dupli (sin_duplis)"
   ]
  },
  {
   "cell_type": "markdown",
   "id": "36127977",
   "metadata": {},
   "source": [
    "29. Crea una función que convierta una variable en una cadena de texto y enmascare todos los caracteres con el carácter '#', excepto los últimos cuatro.\n"
   ]
  },
  {
   "cell_type": "code",
   "execution_count": 16,
   "id": "e78f39bd",
   "metadata": {},
   "outputs": [
    {
     "name": "stdout",
     "output_type": "stream",
     "text": [
      "#####6789\n",
      "###defg\n",
      "123\n"
     ]
    }
   ],
   "source": [
    "def ocultar_menos4(variable):\n",
    "    \"\"\"\n",
    "    Convierte la variable en cadena y enmascara todos los caracteres con '#'\n",
    "    excepto los últimos cuatro.\n",
    "    \"\"\"\n",
    "    texto = str(variable)\n",
    "    \n",
    "    if len(texto) <= 4:\n",
    "        return texto  # Como los últimos 4 caracteres no se enmascaran, devuelvo la variable tal cual\n",
    "    \n",
    "    else:\n",
    "        return \"#\" * (len(texto) - 4) + texto[-4:] \n",
    "        # Convierto todo el texto -4 por #### y añado los últimos 4 últimos elementos del texto\n",
    "\n",
    "\n",
    "# Compronación\n",
    "print(ocultar_menos4(123456789))\n",
    "print(ocultar_menos4(\"abcdefg\"))\n",
    "print(ocultar_menos4(\"123\"))"
   ]
  },
  {
   "cell_type": "markdown",
   "id": "e4721e8b",
   "metadata": {},
   "source": [
    "30. Crea una función que determine si dos palabras son anagramas, es decir, si están formadas por las mismas letras pero en diferente orden.\n"
   ]
  },
  {
   "cell_type": "code",
   "execution_count": 415,
   "id": "05066d43",
   "metadata": {},
   "outputs": [
    {
     "name": "stdout",
     "output_type": "stream",
     "text": [
      "Lobos y Bolos son anagramas\n",
      "Lobos y bingo no son anagramas\n"
     ]
    }
   ],
   "source": [
    "# Creo variables para comprobar el funcionamiento de la función\n",
    "anagrama_1 = 'Lobos'\n",
    "anagrama_2 = 'Bolos'\n",
    "anagrama_falso = 'bingo'\n",
    "\n",
    "def evaluar_anagramas (palabra_1, palabra_2):\n",
    "    \"\"\" Compara cadenas de texto para saber si son anagramas\n",
    "    Args:\n",
    "        palabra_1, palabra_2 (str): cadenas de texto\n",
    "    Return:\n",
    "        (bool): True si son anagramas, False si no lo son\n",
    "    \"\"\"\n",
    "    # Convierto las palabras en sets de letras\n",
    "    # Incluyo .lower() para que no se identifiquen como diferentes una misma letra en mayúsculas y minúsculas\n",
    "    # En un set el orden de los elementos no importa, así podemos comparar las letras indistintamente\n",
    "    if (set(palabra_1.lower())) == set(palabra_2.lower()):\n",
    "        print (f'{palabra_1} y {palabra_2} son anagramas')\n",
    "    else: \n",
    "        print (f'{palabra_1} y {palabra_2} no son anagramas')   \n",
    "\n",
    "# Compruebo el funcionamiento \n",
    "evaluar_anagramas (anagrama_1, anagrama_2)\n",
    "evaluar_anagramas (anagrama_1, anagrama_falso)\n",
    "    "
   ]
  },
  {
   "cell_type": "markdown",
   "id": "ff825044",
   "metadata": {},
   "source": [
    "31. Crea una función que solicite al usuario ingresar una lista de nombres y luego solicite un nombre para buscar en esa lista. Si el nombre está en la lista, se imprime un mensaje indicando que fue encontrado, de lo contrario, se lanza una excepción.\n"
   ]
  },
  {
   "cell_type": "code",
   "execution_count": 24,
   "id": "f053dc46",
   "metadata": {},
   "outputs": [],
   "source": [
    "def buscar_nombres():\n",
    "    \"\"\" \n",
    "    Pide al usuario una lista de nombres y luego un nombre para buscarlo en esa misma lista:\n",
    "        Si se encuentra el nombre se escribe: '¡Genial! El nombre \"{nombre_a_buscar}\" se encuentra en la lista'\n",
    "        Si no se encuentra se escribe: 'Lo siento, el nombre \"{nombre_a_buscar}\" no se encuentra en la lista'\n",
    "    \"\"\"\n",
    "    # Pido al usuario la lista \n",
    "    lista_usuario = input ('Escribe la lista de nombres que desees (deben estar separados por comas):')\n",
    "    # Establezco la coma como separador limpiando los espacios\n",
    "    nombres = [nombre.strip() for nombre in lista_usuario.split(\",\")] \n",
    "\n",
    "    # Pido el nombre que busacar en la lista\n",
    "    nombre_a_buscar = input('Escribe el nombre que quieres buscar en la lista: ').strip()\n",
    "    # Compruebo si el nombre está en la lista\n",
    "    if nombre_a_buscar in nombres: \n",
    "        print(f'¡Genial! El nombre \"{nombre_a_buscar}\" se encuentra en la lista')\n",
    "\n",
    "    else: \n",
    "        print(f'Lo siento, el nombre \"{nombre_a_buscar}\" no se encuentra en la lista')\n"
   ]
  },
  {
   "cell_type": "markdown",
   "id": "cbddca0a",
   "metadata": {},
   "source": [
    "32. Crea una función que tome un nombre completo y una lista de empleados, busque el nombre completo en la lista y devuelve el puesto del empleado si está en la lista, de lo contrario, devuelve un mensaje indicando que la persona no trabaja aquí."
   ]
  },
  {
   "cell_type": "code",
   "execution_count": 22,
   "id": "45aabd09",
   "metadata": {},
   "outputs": [
    {
     "name": "stdout",
     "output_type": "stream",
     "text": [
      "El puesto de Paula López es Comunicadora\n"
     ]
    },
    {
     "data": {
      "text/plain": [
       "'Jaimito no trabaja aquí.'"
      ]
     },
     "execution_count": 22,
     "metadata": {},
     "output_type": "execute_result"
    }
   ],
   "source": [
    "mis_empleados = [\n",
    "    {'nombre': 'Ana Gutiérrez', 'puesto': 'Analista de datos'},\n",
    "    {'nombre': 'Paula López', 'puesto': 'Comunicadora'},\n",
    "    {'nombre': 'Alvarito Castro', 'puesto': 'Matemático'}\n",
    "]\n",
    "\n",
    "def buscar_puesto(nombre_completo, lista_de_empleados):\n",
    "    \"\"\"\n",
    "    Busca el nombre completo en la lista de empleados y devuelve el puesto.\n",
    "    Si no se encuentra, devuelve un mensaje indicando que no trabaja aquí.\n",
    "\n",
    "    Args:\n",
    "        nombre_completo (str): nombre del empleado/a\n",
    "        lista_de_empleados (dicc): grupo de empleados\n",
    "\n",
    "    Reurn:\n",
    "        Si el nombre es correcto (str): f'El puesto de {nombre_completo} es {puesto}')\n",
    "        Si no lo es (str): f'{nombre_completo} no trabaja aquí.'\n",
    "    \"\"\"\n",
    "    for emp in lista_de_empleados:\n",
    "        if emp['nombre'] == nombre_completo:\n",
    "            return print(f'El puesto de {nombre_completo} es {emp['puesto']}')\n",
    "    \n",
    "    return f'{nombre_completo} no trabaja aquí.'\n",
    "\n",
    "# Comprabación\n",
    "buscar_puesto ('Paula López', mis_empleados)\n",
    "buscar_puesto ('Jaimito', mis_empleados)\n",
    "\n"
   ]
  },
  {
   "cell_type": "markdown",
   "id": "2309832e",
   "metadata": {},
   "source": [
    "33. Crea una función lambda que sume elementos correspondientes de dos listas dadas"
   ]
  },
  {
   "cell_type": "code",
   "execution_count": null,
   "id": "e1d2f54d",
   "metadata": {},
   "outputs": [
    {
     "name": "stdout",
     "output_type": "stream",
     "text": [
      "[5, 7, 9]\n"
     ]
    }
   ],
   "source": [
    "# De nuevo no guardo la función como def y la uso con la lambda sólo en esta variable\n",
    "sumar_listas = lambda lista1, lista2: list(map(lambda x, y: x + y, lista1, lista2))\n",
    "# La lambda suma los elementos y map lo repite uno tras otro. List hace que se devuelva una lista\n",
    "\n",
    "# Comprobación\n",
    "print(sumar_listas([1, 2, 3], [4, 5, 6])) \n",
    "\n"
   ]
  },
  {
   "cell_type": "markdown",
   "id": "19bcf310",
   "metadata": {},
   "source": [
    "34. Crea la clase Arbol , define un árbol genérico con un tronco y ramas como atributos. Los métodos disponibles son:\n",
    "crecer_tronco , nueva_rama , crecer_ramas , quitar_rama e info_arbol. El objetivo es implementar estos métodos para manipular la estructura del árbol.\n",
    "Código a seguir:\n",
    "    1. Inicializar un árbol con un tronco de longitud 1 y una lista vacía de ramas.\n",
    "    2. Implementar el método crecer_tronco para aumentar la longitud del tronco en una unidad.\n",
    "    3. Implementar el método nueva_rama para agregar una nueva rama de longitud 1 a la lista de ramas.\n",
    "    4. Implementar el método crecer_ramas para aumentar en una unidad la longitud de todas las ramas existentes.\n",
    "    5. Implementar el método quitar_rama para eliminar una rama en una *posición específica*.\n",
    "    6. Implementar el método info_arbol para devolver información sobre la longitud del tronco, el número de ramas y las longitudes de las mismas.\n",
    "Caso de uso:\n",
    "    1. Crear un árbol.\n",
    "    2. Hacer crecer el tronco del árbol una unidad.\n",
    "    3. Añadir una nueva rama al árbol.\n",
    "    4. Hacer crecer todas las ramas del árbol una unidad.\n",
    "    5. Añadir dos nuevas ramas al árbol.\n",
    "    6. Retirar la rama situada en la posición 2.\n",
    "    7. Obtener información sobre el árbol.\n"
   ]
  },
  {
   "cell_type": "code",
   "execution_count": 90,
   "id": "c2f471b3",
   "metadata": {},
   "outputs": [
    {
     "name": "stdout",
     "output_type": "stream",
     "text": [
      "Yo he quitado la rama de longitud: 2.0\n",
      "Información final del árbol:\n",
      "El tronco mide 2.0 unidades, tiene 1 rama(s) con longitudes [2.0].\n",
      "{'tronco': 2.0, 'numero_ramas': 1, 'longitudes_ramas': [2.0], 'descripcion': 'El tronco mide 2.0 unidades, tiene 1 rama(s) con longitudes [2.0].'}\n"
     ]
    }
   ],
   "source": [
    "class Arbol: #Creo la clase\n",
    "    \"\"\"\n",
    "    Clase que representa a un arbol, con tronco y ramas.\n",
    "\n",
    "    Métodos disponibles: crecer_tronco , nueva_rama , crecer_ramas , quitar_rama e info_arbol\n",
    "    \"\"\"\n",
    "    def __init__(self, tronco = 1.0, ramas=None):\n",
    "         \"\"\" \n",
    "        Método constructor\n",
    "        Args:\n",
    "            tronco (float): número de metros que tiene el tronco del árbol (por defecto 1.0)\n",
    "            ramas (lsit): lsita de ramas y longitud de estas (lista vacía por defecto)\n",
    "        \"\"\"\n",
    "         self.tronco = float(tronco)\n",
    "         self.ramas = list(ramas) if ramas is not None else []\n",
    "\n",
    "    def crecer_tronco(self, cantidad = 1.0):\n",
    "        \"\"\"\n",
    "        Método que hace crecer el tronco en `cantidad` (por defecto 1) y devuelve la nueva longitud del tronco.\n",
    "         Args:\n",
    "            centidad (float) = cantidad que crece el tronco \n",
    "         Return: \n",
    "            self.tronco (float) = nueva longitud del tronco\n",
    "        \"\"\"\n",
    "        self.tronco += float(cantidad)\n",
    "        return self.tronco\n",
    "\n",
    "    def nueva_rama(self, longitud = 1.0):\n",
    "        \"\"\"\n",
    "        Método que añade una nueva rama con longitud `longitud` (por defecto 1) y devuelve el número actual de ramas.\n",
    "         Args:\n",
    "            longitud (float) = nueva rama de longitud indicada o 1 por defecto\n",
    "         Return: \n",
    "            len(self.ramas) (float) = nueva cantidad de ramas\n",
    "        \"\"\"\n",
    "        self.ramas.append(float(longitud)) # El append añade la nueva rama a la lista\n",
    "        return len(self.ramas)\n",
    "\n",
    "    def crecer_ramas(self, cantidad = 1.0):\n",
    "        \"\"\"\n",
    "        Método para hacer crecer todas las ramas en la cantidad indicada (por defecto 1) y devuelve la lista actualizada de longitudes de ramas.\n",
    "        Args:\n",
    "            cantidad (float) = cantidad que crecen las ramas\n",
    "         Return: \n",
    "            self.ramas (list) = nueva lista con las diferentes ramas\n",
    "        \"\"\"\n",
    "        self.ramas = [r + float(cantidad) for r in self.ramas] #Itero la lista para sumar a todas las ramas la longitud nevesaria\n",
    "        return self.ramas\n",
    "\n",
    "    def quitar_rama(self, posicion):\n",
    "        \"\"\"\n",
    "        Método que quita la rama en la posición indicada (1-based) y devuelve la longitud de la rama eliminada.\n",
    "        Si la posicion no es válida, lanza IndexError.\n",
    "        Args:\n",
    "            posicion (int) = posición de la rama a eliminar en la lista\n",
    "         Return: \n",
    "            rama_eliminada (list) = nueva lista con las diferentes ramas\n",
    "        \"\"\"\n",
    "        indice = posicion - 1\n",
    "        if indice < 0 or indice >= len(self.ramas): #Para el caso de que se intente quitar una rama en posición no válida\n",
    "            raise IndexError(f'Posición fuera de rango. Debe estar entre 1 y {len(self.ramas)}.') \n",
    "        rama_eliminada = self.ramas.pop(indice) # Si no hay problemas, el pop saca la rama de la lista\n",
    "        return rama_eliminada \n",
    "\n",
    "    def info_arbol(self):\n",
    "        \"\"\"\n",
    "        Se devuelve un diccionario con la información del árbol:\n",
    "         - tronco: longitud del tronco\n",
    "         - numero_ramas: cantidad de ramas\n",
    "         - longitudes_ramas: lista de longitudes de cada rama\n",
    "\n",
    "        Además se devuelve una versión en string en la clave 'descripcion'.\n",
    "        \"\"\"\n",
    "        info = {\n",
    "            'tronco': self.tronco,\n",
    "            'numero_ramas': len(self.ramas),\n",
    "            'longitudes_ramas': list(self.ramas)\n",
    "        } # Así genero el diccionario con toda la información, lo mantengo porque podría ser interesante trabajar con este formato posteriormente\n",
    "        descripcion = (f'El tronco mide {self.tronco} unidades, '\n",
    "                       f'tiene {len(self.ramas)} rama(s) con longitudes {self.ramas}.') # Pongo una cadena con toda la información para que sea más legible, mantenieno el dicc por lo comentado anteriormente\n",
    "        info['descripcion'] = descripcion \n",
    "        return info\n",
    "\n",
    "\n",
    "# Uso de ejemplo \n",
    "# 1. Crear un árbol.\n",
    "arbolito = Arbol()  # Creo el árbol por defecto: con tronco=1.0 y ramas=[]\n",
    "\n",
    "# 2. Hacer crecer el tronco del árbol una unidad. \n",
    "arbolito.crecer_tronco() # No añado variable porque por defecto indiqué que creciera 1 \n",
    "\n",
    "# 3. Añadir una nueva rama al árbol.\n",
    "arbolito.nueva_rama() # No añado variable porque por defecto indiqué añadir 1 rama\n",
    "\n",
    "# 4. Hacer crecer todas las ramas del árbol una unidad.\n",
    "arbolito.crecer_ramas() # No añado variable porque por defecto indiqué que crecieran 1 \n",
    "\n",
    "# 5. Añadir dos nuevas ramas al árbol.\n",
    "arbolito.nueva_rama(2)\n",
    "\n",
    "# 6. Retirar la rama situada en la posición 2.\n",
    "eliminada = arbolito.quitar_rama(2)\n",
    "print(f'Yo he quitado la rama de longitud: {eliminada}')\n",
    "\n",
    "# 7. Obtener información sobre el árbol.\n",
    "arbolito.info_arbol()\n",
    "print('Información final del árbol:')\n",
    "print(info['descripcion'])\n",
    "# Si quiero el diccionario podría pedirlo con:\n",
    "print(info)\n",
    "\n"
   ]
  },
  {
   "cell_type": "markdown",
   "id": "e8bf9ea6",
   "metadata": {},
   "source": [
    "36. Crea la clase UsuarioBanco ,representa a un usuario de un banco con su nombre, saldo y si tiene o no cuenta corriente. Proporciona métodos para realizar operaciones como retirar dinero, transferir dinero desde otro usuario y agregar dinero al saldo.\n",
    "Código a seguir:\n",
    "    1. Inicializar un usuario con su nombre, saldo y si tiene o no cuenta corriente mediante True y False .\n",
    "    2. Implementar el método retirar_dinero para retirar dinero del saldo del usuario. Lanzará un error en caso de no poder hacerse.\n",
    "    3. Implementar el método transferir_dinero para realizar una transferencia desde otro usuario al usuario actual.Lanzará un error en caso de no poder hacerse.\n",
    "    4. Implementar el método agregar_dinero para agregar dinero al saldo del usuario.\n",
    "Caso de uso:\n",
    "    1. Crear dos usuarios: \"Alicia\" con saldo inicial de 100 y \"Bob\" con saldo inicial de 50, ambos con cuenta corriente.\n",
    "    2. Agregar 20 unidades de saldo de \"Bob\".\n",
    "    3. Hacer una transferencia de 80 unidades desde \"Bob\" a \"Alicia\".\n",
    "    4. Retirar 50 unidades de saldo a \"Alicia\".\n"
   ]
  },
  {
   "cell_type": "code",
   "execution_count": null,
   "id": "0af37a2c",
   "metadata": {},
   "outputs": [
    {
     "name": "stdout",
     "output_type": "stream",
     "text": [
      "Bob ahora tiene 70.0\n",
      "Alicia ahora tiene 108.0 y Bob tiene 62.0\n",
      "Alicia ahora tiene 58.0\n"
     ]
    }
   ],
   "source": [
    "class UsuarioBanco: # Creo la clase\n",
    "    \"\"\"\n",
    "    Clase que representa a un usuario de un banco con nombre, saldo y cuenta corriente.\n",
    "    \n",
    "    Métodos disponibles: retirar_dinero , transferir_dinero , agregar_dinero\n",
    "    \"\"\"\n",
    "    def __init__(self, nombre, saldo = 0.0, cuenta_corriente = False):\n",
    "        \"\"\" \n",
    "        Método constructor\n",
    "        Args:\n",
    "            nombre (str): nombre del usuario\n",
    "            saldo (float): cantidad de dinero inicial (por defecto 0.0)\n",
    "            cuenta_corriente (bool): indica si tiene cuenta corriente (True o False, por defecto False)\n",
    "        \"\"\"\n",
    "        self.nombre = str(nombre)\n",
    "        self.saldo = float(saldo)\n",
    "        self.cuenta_corriente = bool(cuenta_corriente)\n",
    "\n",
    "    def retirar_dinero(self, cantidad):\n",
    "        \"\"\"\n",
    "        Método que retira dinero del saldo del usuario.\n",
    "        Si no hay saldo suficiente o no tiene cuenta corriente, lanza un error.\n",
    "        Args:\n",
    "            cantidad (float): dinero a retirar\n",
    "        Return:\n",
    "            self.saldo (float): saldo restante tras la operación\n",
    "        \"\"\"\n",
    "        if not self.cuenta_corriente:\n",
    "            raise ValueError(f'El usuario {self.nombre} no tiene cuenta corriente')\n",
    "        if cantidad > self.saldo:\n",
    "            raise ValueError(f'Saldo insuficiente para retirar {cantidad}')\n",
    "        self.saldo -= float(cantidad)\n",
    "        return self.saldo\n",
    "\n",
    "    def transferir_dinero(self, otro_usuario, cantidad):\n",
    "        \"\"\"\n",
    "        Método que transfiere dinero desde otro usuario hacia este usuario.\n",
    "        Si no hay saldo suficiente en el otro usuario o no tiene cuenta corriente, lanza un error.\n",
    "        Args:\n",
    "            otro_usuario (UsuarioBanco): usuario desde el que se transfiere\n",
    "            cantidad (float): dinero a transferir\n",
    "        Return:\n",
    "            self.saldo (float): nuevo saldo del usuario que recibe la transferencia\n",
    "        \"\"\"\n",
    "        if not otro_usuario.cuenta_corriente:\n",
    "            raise ValueError(f'El usuario {otro_usuario.nombre} no tiene cuenta corriente')\n",
    "        if cantidad > otro_usuario.saldo:\n",
    "            raise ValueError(f'El usuario {otro_usuario.nombre} no tiene saldo suficiente')\n",
    "        otro_usuario.saldo -= float(cantidad)\n",
    "        self.saldo += float(cantidad)\n",
    "        return self.saldo\n",
    "\n",
    "    def agregar_dinero(self, cantidad):\n",
    "        \"\"\"\n",
    "        Método que agrega dinero al saldo del usuario.\n",
    "        Args:\n",
    "            cantidad (float): dinero a añadir\n",
    "        Return:\n",
    "            self.saldo (float): nuevo saldo tras la operación\n",
    "        \"\"\"\n",
    "        if not self.cuenta_corriente:\n",
    "            raise ValueError(f'El usuario {self.nombre} no tiene cuenta corriente')\n",
    "        self.saldo += float(cantidad)\n",
    "        return self.saldo\n",
    "\n",
    "# Caso de uso\n",
    "\n",
    "# 1. Creo los dos usuarios\n",
    "Alicia = UsuarioBanco('Alicia', saldo = 100, cuenta_corriente = True) #Creo a Alicia con 100\n",
    "Bob = UsuarioBanco('Bob', saldo = 50, cuenta_corriente = True) #Creo a Bob con 50\n",
    "\n",
    "# 2. Agrego 20 unidades de saldo de Bob\n",
    "Bob.agregar_dinero(20)\n",
    "print(f'Bob ahora tiene {Bob.saldo}')\n",
    "\n",
    "# 3. Hago una transferencia de 80 unidades desde Bob a Alicia\n",
    "Alicia.transferir_dinero(Bob, 80)\n",
    "print(f'Alicia ahora tiene {Alicia.saldo} y Bob tiene {Bob.saldo}')\n",
    "\n",
    "# 4. Retiro 50 unidades de saldo a Alicia\n",
    "Alicia.retirar_dinero(50)\n",
    "print(f'Alicia ahora tiene {Alicia.saldo}')\n"
   ]
  },
  {
   "cell_type": "markdown",
   "id": "53cf66c2",
   "metadata": {},
   "source": [
    "37. Crea una función llamada procesar_texto que procesa un texto según la opción especificada: contar_palabras, reemplazar_palabras, eliminar_palabra. Estas opciones son otras funciones que tenemos que definir primero y llamar dentro de la función procesar_texto.\n",
    "\n",
    "Código a seguir:\n",
    "    1. Crear una función contar_palabras para contar el número de veces que aparece cada palabra en el texto. Tiene que devolver un diccionario.\n",
    "    2. Crear una función reemplazar_palabras para remplazar una palabra_original del texto por una palabra_nueva. Tiene que devolver el texto con el remplazo de palabras.\n",
    "    3. Crear una función eliminar_palabra para eliminar una palabra del texto. Tiene que devolver el texto con la palabra eliminada.\n",
    "    4. Crear la función procesar_texto que tome un texto, una opción(entre \"contar\", \"reemplazar\", \"eliminar\") y un número de argumentos variable según la opción indicada.\n",
    "\n",
    "Caso de uso:\n",
    "Comprueba el funcionamiento completo de la función procesar_texto"
   ]
  },
  {
   "cell_type": "code",
   "execution_count": 103,
   "id": "26ad2bee",
   "metadata": {},
   "outputs": [
    {
     "name": "stdout",
     "output_type": "stream",
     "text": [
      "Contar palabras:\n",
      "{'hola': 1, 'buen': 1, 'día': 3, 'hoy': 1, 'es': 1, 'un': 1, 'soleado': 1, 'que': 1, 'el': 1, 'sea': 1, 'soledao': 1, 'me': 1, 'hace': 1, 'feliz': 1}\n",
      "Reemplazar palabra:\n",
      "Hola, buen día. Hoy es un día soleado. Que el día sea soledao me hace bailar.\n",
      "Eliminar palabra:\n",
      "buen día. Hoy es un día soleado. Que el día sea soledao me hace feliz.\n"
     ]
    }
   ],
   "source": [
    "# Primero defino la función para contar las palabras\n",
    "def contar_palabras(texto):\n",
    "    \"\"\"\n",
    "    Función que cuenta cuántas veces aparece cada palabra en el texto.\n",
    "    Args:\n",
    "        texto (str): texto de entrada\n",
    "    Return:\n",
    "        dict: diccionario con palabras como claves y número de apariciones como valores\n",
    "    \"\"\"\n",
    "    # Divido el texto en palabras separadas por espacios\n",
    "    palabras = texto.split()\n",
    "    conteo = {} # Genero el diccionario\n",
    "    # Recorro cada palabra y voy sumando en el diccionario\n",
    "    for palabra in palabras:\n",
    "        palabra = palabra.strip('.,!?;:').lower() # Quito signos básicos y todo paso a minúsculas para sistematizarlo\n",
    "        if palabra in conteo: # Hago el conteo de palabras y\n",
    "            conteo[palabra] += 1 # Las sumo si se repiten\n",
    "        else:\n",
    "            conteo[palabra] = 1 # Si sólo salen una vez, saldrá 1 como numero de apariciones \n",
    "    return conteo\n",
    "\n",
    "\n",
    "# Defino la función para reemplazar palabras\n",
    "def reemplazar_palabras(texto, palabra_original, palabra_nueva):\n",
    "    \"\"\"\n",
    "    Función que reemplaza una palabra por otra en el texto.\n",
    "    Args:\n",
    "        texto (str): texto de entrada\n",
    "        palabra_original (str): palabra que quiero reemplazar\n",
    "        palabra_nueva (str): palabra por la que se reemplaza\n",
    "    Return:\n",
    "        str: texto con el reemplazo hecho\n",
    "    \"\"\"\n",
    "    # Uso replace para cambiar todas las ocurrencias\n",
    "    return texto.replace(palabra_original, palabra_nueva)\n",
    "\n",
    "\n",
    "# Defino la función para eliminar palabras\n",
    "def eliminar_palabra(texto, palabra_eliminar):\n",
    "    \"\"\"\n",
    "    Función que elimina una palabra específica del texto.\n",
    "    Args:\n",
    "        texto (str): texto de entrada\n",
    "        palabra_eliminar (str): palabra que quiero eliminar\n",
    "    Return:\n",
    "        (str): texto con la palabra eliminada\n",
    "    \"\"\"\n",
    "    palabras = texto.split()\n",
    "    palabra_eliminar_norm = palabra_eliminar.strip('.,!?;:').lower()\n",
    "    nuevas_palabras = []\n",
    "    # Recorro las palabras originales; comparo cada palabra en lower\n",
    "    # y sólo añado a nuevas_palabras la que NO coincida con la palabra a eliminar.\n",
    "    for p in palabras:\n",
    "        p_norm = p.strip('.,!?;:').lower()\n",
    "        if p_norm == palabra_eliminar_norm:\n",
    "            # ignoro la palabra introducida (la elimino)\n",
    "            continue\n",
    "        else:\n",
    "            # Conservo la palabra tal cual (con su puntuación)\n",
    "            nuevas_palabras.append(p)\n",
    "    # Uno las palabras otra vez en un texto\n",
    "    return ' '.join(nuevas_palabras)\n",
    "\n",
    "\n",
    "# Creo la función principal que llama a las anteriores\n",
    "def procesar_texto(texto, opcion, *args):\n",
    "    \"\"\"\n",
    "    Función que procesa un texto según la opción indicada: contar, reemplazar o eliminar.\n",
    "    Args:\n",
    "        texto (str): texto de entrada\n",
    "        opcion (str): tipo de operación (\"contar\", \"reemplazar\" o \"eliminar\")\n",
    "        *args: argumentos adicionales dependiendo de la opción\n",
    "    Return:\n",
    "        resultado variable: diccionario o texto modificado\n",
    "    \"\"\"\n",
    "    if opcion == 'contar':\n",
    "        return contar_palabras(texto)\n",
    "    elif opcion == 'reemplazar':\n",
    "        if len(args) != 2: # Lanzo un error si no se insertan los valores necesarios\n",
    "            raise ValueError('Para reemplazar necesito palabra_original y palabra_nueva')\n",
    "        return reemplazar_palabras(texto, args[0], args[1])\n",
    "    elif opcion == 'eliminar':\n",
    "        if len(args) != 1:\n",
    "            raise ValueError('Para eliminar necesito palabra_eliminar') # De nuevo un error si no se inserta lo necesario\n",
    "        return eliminar_palabra(texto, args[0])\n",
    "    else:\n",
    "        raise ValueError('Opción no válida. Usa \"contar\", \"reemplazar\" o \"eliminar\".')\n",
    "\n",
    "\n",
    "# Caso de uso\n",
    "\n",
    "mi_texto = 'Hola, buen día. Hoy es un día soleado. Que el día sea soledao me hace feliz.'\n",
    "\n",
    "# 1. Contar palabras\n",
    "print('Contar palabras:')\n",
    "print(procesar_texto(mi_texto, 'contar'))\n",
    "\n",
    "# 2. Reemplazar palabra\n",
    "print('Reemplazar palabra:')\n",
    "print(procesar_texto(mi_texto, 'reemplazar', 'feliz', 'bailar'))\n",
    "\n",
    "# 3. Eliminar palabra\n",
    "print('Eliminar palabra:')\n",
    "print(procesar_texto(mi_texto, 'eliminar', 'Hola'))\n"
   ]
  },
  {
   "cell_type": "markdown",
   "id": "4fcb0e10",
   "metadata": {},
   "source": [
    "38. Genera un programa que nos diga si es de noche, de día o tarde según la hora proporcionada por el usuario"
   ]
  },
  {
   "cell_type": "code",
   "execution_count": null,
   "id": "0dee3a72",
   "metadata": {},
   "outputs": [],
   "source": [
    "# Importo datetime para trabajar con horas\n",
    "import datetime\n",
    "\n",
    "def momento_del_dia():\n",
    "    \"\"\"\n",
    "    Determina si es de día, tarde o noche según la hora insertada o en su defecto la actual del sistema.\n",
    "    \"\"\"\n",
    "    try:\n",
    "        # Pido al usuario la hora y convierto el input en un número entero de hora\n",
    "        hora_usuario = input(\"Introduce la hora en formato 24h (HH:MM): \")\n",
    "        hora_actual = int(hora_usuario.split(\":\")[0])\n",
    "\n",
    "        # Clasificamos según las franjas horarias\n",
    "        if 7 <= hora_actual < 16:\n",
    "            print('Es de día')\n",
    "        elif 16 <= hora_actual < 21:\n",
    "            print('Es por la tarde')\n",
    "        else:\n",
    "            print('Es de noche')\n",
    "\n",
    "    except ValueError: # En caso de que no se introduzca bien la hora, aparece este error\n",
    "        print(\"Error: Debes introducir la hora en formato correcto (HH:MM).\")\n",
    "\n",
    "# Realizo las comprobaciones en otro archivo .py "
   ]
  },
  {
   "cell_type": "markdown",
   "id": "abb176df",
   "metadata": {},
   "source": [
    "39. Escribe un programa que determine qué calificación en texto tiene un alumno en base a su calificación numérica. Las reglas de calificación son:\n",
    "- 0 - 69 insuficiente\n",
    "- 70 - 79 bien\n",
    "- 80 - 89 muy bien\n",
    "- 90 - 100 excelente"
   ]
  },
  {
   "cell_type": "code",
   "execution_count": null,
   "id": "6a86a579",
   "metadata": {},
   "outputs": [
    {
     "name": "stdout",
     "output_type": "stream",
     "text": [
      "La calificación es: insuficiente\n",
      "La calificación es: muy bien\n",
      "La calificación es: sobresaliente\n"
     ]
    }
   ],
   "source": [
    "\n",
    "def determinar_nota (cali_num):\n",
    "    \"\"\" \n",
    "    Introduciendo una calificación numérica, establece por rangos la calificación como 'insuficiente', 'bien', 'muy bien' o 'sobresaliente'\n",
    "    Args:\n",
    "        cali_num (float): calificación numérica\n",
    "    Return: \n",
    "        calificación (str): puede ser 'insuficiente', 'bien', 'muy bien' o 'sobresaliente'\n",
    "    \"\"\"\n",
    "    # Enlazo condicionales con los rangos de las diferentes calificaciones\n",
    "    if cali_num <= 69:\n",
    "        print ('La calificación es: insuficiente')\n",
    "\n",
    "    elif 70 <= cali_num <= 79:\n",
    "        print ('La calificación es: bien')\n",
    "\n",
    "    elif 80 <= cali_num <= 89:\n",
    "        print ('La calificación es: muy bien')\n",
    "    \n",
    "    elif 90 <= cali_num <= 100: \n",
    "        print ('La calificación es: sobresaliente')\n",
    "\n",
    "# Comprobación\n",
    "determinar_nota (32)\n",
    "determinar_nota (83)\n",
    "determinar_nota (96.2)\n",
    "\n",
    "\n"
   ]
  },
  {
   "cell_type": "markdown",
   "id": "363fe262",
   "metadata": {},
   "source": [
    "40. Escribe una función que tome dos parámetros: figura (una cadena que puede ser \"rectangulo\", \"circulo\" o \"triangulo\" ) y datos (una tupla con los datos necesarios para calcular el área de la figura).\n"
   ]
  },
  {
   "cell_type": "code",
   "execution_count": null,
   "id": "890d80f0",
   "metadata": {},
   "outputs": [
    {
     "name": "stdout",
     "output_type": "stream",
     "text": [
      "26\n",
      "201.06192982974676\n",
      "4.5\n"
     ]
    }
   ],
   "source": [
    "#Importo math porque al trabajar con operaciones matemáticas (usar el número pi, por ejemplo) resulta útil\n",
    "import math \n",
    "\n",
    "def calcular_area(figura, datos):\n",
    "    \"\"\"\n",
    "    Calcula el área de una figura geométrica.\n",
    "    \n",
    "    Args:\n",
    "        figura (str): puede ser 'rectángulo', 'circulo' o 'triangulo'.\n",
    "        datos (tuple): valores necesarios para el cálculo:\n",
    "            - rectángulo: (base, altura)\n",
    "            - circulo: (radio,)\n",
    "            - triangulo: (base, altura)\n",
    "    \n",
    "    Returns:\n",
    "        float: área de la figura\n",
    "    \"\"\"\n",
    "    # Al ser diferentes figuras, genero con un condicional un caso con la fórmula para el área de cada una \n",
    "    if figura.lower() == 'rectángulo':\n",
    "        base, altura = datos\n",
    "        return base * altura\n",
    "    \n",
    "    elif figura.lower() == 'circulo':\n",
    "        (radio,) = datos   # la coma indica que es una tupla de un solo valor\n",
    "        return math.pi * (radio ** 2)\n",
    "    \n",
    "    elif figura.lower() == 'triangulo':\n",
    "        base, altura = datos\n",
    "        return (base * altura) / 2\n",
    "    \n",
    "    else: # En caso de que se intente calcular otra figura, lanzo un error\n",
    "        raise ValueError('Figura no reconocida. Debes introucir los datos para: \"rectángulo\", \"circulo\" o \"triangulo\".')\n",
    "\n",
    "# Comprobación\n",
    "print(calcular_area('rectángulo', (13, 2)))   \n",
    "print(calcular_area('circulo', (8,)))        \n",
    "print(calcular_area('triangulo', (9, 1)))     \n"
   ]
  },
  {
   "cell_type": "markdown",
   "id": "9738d3c8",
   "metadata": {},
   "source": [
    "41. En este ejercicio, se te pedirá que escribas un programa en Python que utilice condicionales para determinar el monto final de una compra en una tienda en línea, después de aplicar un descuento. El programa debe hacer lo siguiente:\n",
    "    1. Solicita al usuario que ingrese el precio original de un artículo.\n",
    "    2. Pregunta al usuario si tiene un cupón de descuento (respuesta sí o no).\n",
    "    3. Si el usuario responde que sí, solicita que ingrese el valor del cupón de descuento.\n",
    "    4. Aplica el descuento al precio original del artículo, siempre y cuando el valor del cupón sea válido (es decir, mayor a cero). Por ejemplo, descuento de 15€.\n",
    "    5. Muestra el precio final de la compra, teniendo en cuenta el descuento aplicado o sin él.\n",
    "    6. Recuerda utilizar estructuras de control de flujo como if, elif y else para llevar a cabo estas acciones en tu programa de Python."
   ]
  },
  {
   "cell_type": "code",
   "execution_count": null,
   "id": "5a2289a9",
   "metadata": {},
   "outputs": [],
   "source": [
    "def calcular_precio_final():\n",
    "    try:\n",
    "        # Prenunto el precio original\n",
    "        precio_original = float(input('Introduce el precio original del artículo (€): '))\n",
    "\n",
    "        # Pregunto por el cupón\n",
    "        tiene_cupon = input('¿Tienes un cupón de descuento? (si/no): ').strip().lower()\n",
    "\n",
    "        # Si tiene cupón, pido su valor\n",
    "        if tiene_cupon == 'sí' or tiene_cupon == 'si':\n",
    "            valor_cupon = float(input('Introduce el valor del cupón (__€): '))\n",
    "            \n",
    "            # Verifico que el cupón sea válido\n",
    "            if valor_cupon > 0:\n",
    "                precio_final = precio_original - valor_cupon\n",
    "                if precio_final < 0:  # Evitamos precios negativos\n",
    "                    precio_final = 0\n",
    "                print(f'Has aplicado un descuento de {valor_cupon}€. El precio final es: {precio_final:}€')\n",
    "            else:\n",
    "                print('El valor del cupón no es válido. No se aplicará descuento.')\n",
    "                print(f'El precio final es: {precio_original}€')\n",
    "\n",
    "        elif tiene_cupon == 'no':\n",
    "            # No hay cupón\n",
    "            print(f'El precio final es: {precio_original}€')\n",
    "\n",
    "        else: \n",
    "            # En caso de que se introduzca algo que no sea si o no\n",
    "            print('Respuesta no válida. Debes responder \"sí\" o \"no\".')\n",
    "\n",
    "    except ValueError:\n",
    "            # En caso de que se introduzca un valor no válido\n",
    "        print('Error: Debes introducir números válidos para el precio o el cupón.')\n",
    "\n",
    "# Realizo las comprobaciones en otro archivo .py  "
   ]
  }
 ],
 "metadata": {
  "kernelspec": {
   "display_name": "Python 3",
   "language": "python",
   "name": "python3"
  },
  "language_info": {
   "codemirror_mode": {
    "name": "ipython",
    "version": 3
   },
   "file_extension": ".py",
   "mimetype": "text/x-python",
   "name": "python",
   "nbconvert_exporter": "python",
   "pygments_lexer": "ipython3",
   "version": "3.13.1"
  }
 },
 "nbformat": 4,
 "nbformat_minor": 5
}
