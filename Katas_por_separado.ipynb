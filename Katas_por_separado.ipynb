{
 "cells": [
  {
   "cell_type": "markdown",
   "id": "7e878c9e",
   "metadata": {},
   "source": [
    "1. Escribe una función que reciba una cadena de texto como parámetro y devuelva un diccionario con las frecuencias de cada letra en la cadena. Los espacios no deben ser considerados."
   ]
  },
  {
   "cell_type": "code",
   "execution_count": 63,
   "id": "b652934a",
   "metadata": {},
   "outputs": [
    {
     "data": {
      "text/plain": [
       "{'c': 1,\n",
       " 'a': 3,\n",
       " 'd': 2,\n",
       " 'e': 3,\n",
       " 'n': 1,\n",
       " 'i': 1,\n",
       " 't': 1,\n",
       " 'p': 1,\n",
       " 'r': 1,\n",
       " 'u': 1,\n",
       " 'b': 1}"
      ]
     },
     "execution_count": 63,
     "metadata": {},
     "output_type": "execute_result"
    }
   ],
   "source": [
    "# Creo una función con un parámetro, la cadena de texto a introducir\n",
    "def str_a_dict_frecuencias (cadena: str) -> dict[str, int]:\n",
    "    \"\"\"Esta función \n",
    "\n",
    "    Args:\n",
    "        cadena (str): cadena de texto que queremos transformar\n",
    "\n",
    "    Returns: \n",
    "        dicc: diccionario con las frecuencias de cada letra de la cadena\n",
    "\n",
    "    Nota: no tiene en cuenta los espacios\n",
    "    \"\"\"\n",
    "    #  creo el diccionario donde se agruparán las frecuencias\n",
    "    frecuencias_cadena = {}\n",
    "    \n",
    "    # Con un bucle se inspecciona cada caracter y se cuenta las veces que aparece (su frecuencia)\n",
    "    for caracter in cadena:\n",
    "        if caracter != \" \":  # Se ignoran los espacios\n",
    "            if caracter in frecuencias_cadena:\n",
    "                frecuencias_cadena[caracter] += 1\n",
    "            else:\n",
    "                frecuencias_cadena[caracter] = 1\n",
    "    # El return será el resultado deseado que quiero que la función devuelva\n",
    "    return frecuencias_cadena\n",
    "\n",
    "\n",
    "# Compruebo el funcionamiento \n",
    "str_a_dict_frecuencias ('cadenita de prueba')\n"
   ]
  },
  {
   "cell_type": "markdown",
   "id": "40efaccc",
   "metadata": {},
   "source": [
    "2. Dada una lista de números, obtén una nueva lista con el doble de cada valor. Usa la función map()"
   ]
  },
  {
   "cell_type": "code",
   "execution_count": 57,
   "id": "ff13e8e5",
   "metadata": {},
   "outputs": [
    {
     "name": "stdout",
     "output_type": "stream",
     "text": [
      "[2, 8, 14, 64, 12]\n",
      "[2, 8, 14, 64, 12]\n"
     ]
    }
   ],
   "source": [
    "# Creo una lista de números de la que partir\n",
    "lista_inicial = [1,4,7,32,6]\n",
    "\n",
    "# Creo una función que multiplique por 2 un número\n",
    "def multiplicar_por_2 (numero):\n",
    "    \"\"\"Multiplicar *2\n",
    "\n",
    "    Args:\n",
    "        numero (int, float)\n",
    "    \n",
    "    Returns:\n",
    "        numero multiplicado (float)\n",
    "\n",
    "    \"\"\"\n",
    "    return numero*2\n",
    " \n",
    "# La función map toma una función y un iterable, la función será multiplicar*2 y el interable la lista inicial\n",
    "lista_2 = list(map(multiplicar_por_2, lista_inicial))\n",
    "#incluyo list(map(...)) porque si no la función map no devuelve la lista como tal\n",
    "\n",
    "# Compruebo el funcionamiento\n",
    "print (lista_2)\n",
    "\n",
    "# Al ser una función tan simple puedo optimizarlo haciendo una lambda \n",
    "ejercicio_2 = list(map(lambda numero: numero*2, lista_inicial))\n",
    "\n",
    "print (ejercicio_2)"
   ]
  },
  {
   "cell_type": "markdown",
   "id": "b45cc366",
   "metadata": {},
   "source": [
    "3. Escribe una función que tome una lista de palabras y una palabra objetivo como parámetros. La función debe devolver una lista con todas las palabras de la lista original que contengan la palabra objetivo."
   ]
  },
  {
   "cell_type": "code",
   "execution_count": 62,
   "id": "18d9c5ff",
   "metadata": {},
   "outputs": [
    {
     "name": "stdout",
     "output_type": "stream",
     "text": [
      "['precepto', 'previo', 'expresso', 'precocinado']\n"
     ]
    }
   ],
   "source": [
    "# Creo una lista de palabras\n",
    "lista_palabras = ['precepto', 'previo', 'permiso', 'expresso', 'precocinado','perfecto']\n",
    "\n",
    "# La palabra objetivo será 'pre'\n",
    "def lista_palabras_incluidas (lista, palabra_objetivo):\n",
    "\n",
    "    \"\"\" Esta función coge una lista de palabras y selecciona aquellas en las que\n",
    "    se encuentre la palabra objetivo incluida, las devuelve en otra lista\n",
    "\n",
    "    Args:\n",
    "        lista (list)\n",
    "        palabra_objetivo (str)\n",
    "\n",
    "    Returns: \n",
    "        lista de palabras que contienen la objetivo (list)\n",
    "    \"\"\"\n",
    "    # Creo la lista que incluirá las palabras que contienen la palabra objetivo\n",
    "    palabras_continentes = []\n",
    "\n",
    "    for palabra in lista: # Hago que la función pase por todas las palabras de la lista insertada\n",
    "        if palabra_objetivo in palabra: palabras_continentes.append(palabra) \n",
    "            # Y así incluya las que contengan la palabra objetivo\n",
    "        else: pass # Las que no la incluyan no entrarán en la nueva lista que crea la función\n",
    "\n",
    "    return palabras_continentes \n",
    "\n",
    "# Compruebo el funcionamiento\n",
    "lista_palabras_incluidas (lista_palabras, 'pre')\n",
    "\n",
    "# Al ser una función simple puedo optimizarlo usando una lambda y filter\n",
    "ejercicio_3 = list(filter(lambda palabra:'pre' in palabra, lista_palabras))\n",
    "\n",
    "print(ejercicio_3)"
   ]
  },
  {
   "cell_type": "markdown",
   "id": "a4b829e2",
   "metadata": {},
   "source": [
    "4. Genera una función que calcule la diferencia entre los valores de dos listas. Usa la función map()"
   ]
  },
  {
   "cell_type": "code",
   "execution_count": 55,
   "id": "f3851558",
   "metadata": {},
   "outputs": [
    {
     "name": "stdout",
     "output_type": "stream",
     "text": [
      "[-2, -4, -4, 7, 9]\n",
      "[-2, -4, -4, 7, 9]\n"
     ]
    }
   ],
   "source": [
    "# Genero dos listas\n",
    "\n",
    "lista_valores_1 = [1, 5, 7, 9, 13]\n",
    "\n",
    "lista_valores_2 = [3, 9, 11, 2, 4]\n",
    "\n",
    "# Creo la función que calculará la diferencia entre los valores de las listas\n",
    "# Quiero restar cada valor y que map lo repita en los iterables\n",
    "def resta (x, y):\n",
    "    \"\"\"_ Calcula la diferencia entre los valores de dos listas\n",
    "        Args:\n",
    "            lista 1 (int,float)\n",
    "            lista 2 (int, float)\n",
    "\n",
    "        Returns: \n",
    "            Diferencia (int, float)\n",
    "    \"\"\"\n",
    "    # hago resta de valor 1 de cada lista y hago map \n",
    "    return  x - y\n",
    "\n",
    "# Compruebo el funcionamiento\n",
    "print(list(map(resta, lista_valores_1, lista_valores_2)))\n",
    "\n",
    "# Al ser una función tan simple puedo mejorarlo haciendo una lambda\n",
    "\n",
    "ejercicio_4 = list(map(lambda x, y : x-y, lista_valores_1, lista_valores_2))\n",
    "\n",
    "print (ejercicio_4)\n"
   ]
  },
  {
   "cell_type": "markdown",
   "id": "16f157e9",
   "metadata": {},
   "source": [
    "5. Ecribe una función que tome una lista de números como parámetro y un valor opcional nota_aprobado, que por defecto es 5. La función debe calcular la media de los números en la lista y determinar si la media es mayor o igual que nota aprobado. Si es así, el estado será \"aprobado\", de lo contrario, será \"suspenso\". La función debe devolver una tupla que contenga la media y el estado.\n"
   ]
  },
  {
   "cell_type": "code",
   "execution_count": 82,
   "id": "c0dd0fc4",
   "metadata": {},
   "outputs": [
    {
     "data": {
      "text/plain": [
       "(5.46, 'suspenso')"
      ]
     },
     "execution_count": 82,
     "metadata": {},
     "output_type": "execute_result"
    }
   ],
   "source": [
    "#Genero una la lista de calificaciones de un grupo imaginario y establezco la nota del aprobado\n",
    "calificaciones = [5, 3, 7.2, 8.9, 10, 2, 1.5, 4, 6.3, 7, 5.2]\n",
    "\n",
    "def media_aprobada_o_no (calificaciones, nota_aprobado = 5):\n",
    "    \"\"\"Esta funcion hace la media de las calificaciones y las compara con la nota mínima para aprobar\n",
    "    para así detreminar si globalmente se aprueba o no al grupo.\n",
    "    \n",
    "    Args:\n",
    "        (list): lista de calificaciones.\n",
    "        (int, float): valor por defecto 5 (posible añadir otro), nota con la que se aprueba.\n",
    "\n",
    "    Returns: \n",
    "        (tuple): media de calificaciones y si se aprueba o no globalmente (media, estado)\n",
    "    \"\"\"\n",
    "    # Calculo la media redondeado a 2 decimales\n",
    "    media_global = round(sum (calificaciones) / len (calificaciones), 2)\n",
    "    # Creo el estado aprobado o suspenso en función de la media global\n",
    "    if media_global >= nota_aprobado:\n",
    "        estado = 'aprobado'\n",
    "    else:\n",
    "        estado = 'suspenso'\n",
    "    # El return así escrito devuelve automáticamente una tupla\n",
    "    return media_global, estado  \n",
    "\n",
    "# Compruebo el funcionamiento\n",
    "media_aprobada_o_no (calificaciones)\n",
    "\n",
    "# Pruebo ahora que la nota de aprobado podría cambiarse\n",
    "media_aprobada_o_no (calificaciones, 7)"
   ]
  },
  {
   "cell_type": "markdown",
   "id": "ad04dfca",
   "metadata": {},
   "source": [
    "6. Escribe una función que calcule el factorial de un número de manera recursiva."
   ]
  },
  {
   "cell_type": "code",
   "execution_count": 118,
   "id": "fc69c616",
   "metadata": {},
   "outputs": [
    {
     "data": {
      "text/plain": [
       "120"
      ]
     },
     "execution_count": 118,
     "metadata": {},
     "output_type": "execute_result"
    }
   ],
   "source": [
    "def factorial (numero):\n",
    "    \"\"\"Función recursiva que calcula el factorial de un número\n",
    "\n",
    "    Args:\n",
    "        numero (int)\n",
    "\n",
    "    Return: \n",
    "        factorial (int)\n",
    "    \"\"\"\n",
    "    # Como el factorial de 0 es por definición 1, agrego este caso concreto\n",
    "    if numero == 0: \n",
    "       numero_factorial = 1\n",
    "    \n",
    "    else:\n",
    "           numero_factorial = numero * factorial (numero - 1)\n",
    "     \n",
    "    return numero_factorial\n",
    "\n",
    "# Compruebo el funcionamiento\n",
    "factorial (5)"
   ]
  },
  {
   "cell_type": "markdown",
   "id": "42613967",
   "metadata": {},
   "source": [
    "7. Genera una función que convierta una lista de tuplas a una lista de strings. Usa la función map()."
   ]
  },
  {
   "cell_type": "code",
   "execution_count": null,
   "id": "8298beca",
   "metadata": {},
   "outputs": [
    {
     "data": {
      "text/plain": [
       "['primera tupla', 'otra más aquí', 'y 3 54']"
      ]
     },
     "execution_count": 196,
     "metadata": {},
     "output_type": "execute_result"
    }
   ],
   "source": [
    "# Genero una lista de tuplas para la comrpobación\n",
    "lista_de_tuplas = [('primera', 'tupla'), ('otra', 'más', 'aquí'), ('y', 3, 54)]\n",
    "\n",
    "def tupla_a_lista(listita):\n",
    "    \"\"\"\n",
    "    Convierte una lista de tuplas a lista de strings\n",
    "\n",
    "    Args:\n",
    "        listita (list): lista con tuplas\n",
    "\n",
    "    Return:\n",
    "        lista de strings (list)\n",
    "    \"\"\"\n",
    "    lista_de_strings = []\n",
    "\n",
    "    for elemento in listita:\n",
    "        pasar_elementos_a_str = map(str, elemento) #convierto los elementos\n",
    "        unir_cadenas = \" \".join(pasar_elementos_a_str) #Uno los strings\n",
    "        lista_de_strings.append(unir_cadenas) #Lo añado a la lista vacía \n",
    "\n",
    "    return lista_de_strings\n",
    "\n",
    "# Compruebo el funcionamiento\n",
    "tupla_a_lista(lista_de_tuplas)\n",
    "\n",
    "# Podría realizarse con una lambda\n",
    "def ejercicio_7 (listita):\n",
    "    \n",
    "    nueva_lista = list(map(lambda elemento: \" \".join(map(str, elemento)), listita))\n",
    "\n",
    "    return nueva_lista\n",
    "\n",
    "ejercicio_7 (lista_de_tuplas)\n"
   ]
  },
  {
   "cell_type": "markdown",
   "id": "3e246c8b",
   "metadata": {},
   "source": [
    "8. Escribe un programa que pida al usuario dos números e intente dividirlos. Si el usuario ingresa un valor no numérico o intenta dividir por cero, maneja esas excepciones de manera adecuada. Asegúrate de mostrar un mensaje indicando si la división fue exitosa o no."
   ]
  },
  {
   "cell_type": "code",
   "execution_count": null,
   "id": "25b082a9",
   "metadata": {},
   "outputs": [],
   "source": [
    "# Preguntar"
   ]
  },
  {
   "cell_type": "markdown",
   "id": "61857206",
   "metadata": {},
   "source": [
    "9. Escribe una función que tome una lista de nombres de mascotas como parámetro y devuelva una nueva lista excluyendo ciertas mascotas prohibidas en España. La lista de mascotas a excluir es [\"Mapache\", \"Tigre\", \"Serpiente Pitón\", \"Cocodrilo\", \"Oso\"].Usa la función filter()"
   ]
  },
  {
   "cell_type": "code",
   "execution_count": null,
   "id": "2e3db6ea",
   "metadata": {},
   "outputs": [
    {
     "data": {
      "text/plain": [
       "['Cabra', 'Perro', 'Vaca', 'Gato']"
      ]
     },
     "execution_count": 151,
     "metadata": {},
     "output_type": "execute_result"
    }
   ],
   "source": [
    "# Creo una lista de mascotas\n",
    "mascotas_varias = [\"Cabra\", \"Perro\", \"Tigre\", \"Vaca\", \"Serpiente Pitón\", \"Gato\", \"Cocodrilo\", \"Oso\"]\n",
    "\n",
    "def filtrar_mascotas(mascotas):\n",
    "    mascotas_prohibidas = [\"Mapache\", \"Tigre\", \"Serpiente Pitón\", \"Cocodrilo\", \"Oso\"]\n",
    "    # filter mantiene solo los elementos que cumplen la condición\n",
    "    return list(filter(lambda elemento: elemento not in mascotas_prohibidas, mascotas))\n",
    "\n",
    "#Compruebo el funcionamiento \n",
    "filtrar_mascotas (mascotas_varias)"
   ]
  },
  {
   "cell_type": "markdown",
   "id": "2bc73fe0",
   "metadata": {},
   "source": [
    "10. Escribe una función que reciba una lista de números y calcule su promedio. Si la lista está vacía, lanza una excepción personalizada y maneja el error adecuadamente."
   ]
  },
  {
   "cell_type": "code",
   "execution_count": null,
   "id": "be89dd8c",
   "metadata": {},
   "outputs": [
    {
     "data": {
      "text/plain": [
       "'La lista de números no contiene datos, por favor incluye algunos para calcular el promedio'"
      ]
     },
     "execution_count": 200,
     "metadata": {},
     "output_type": "execute_result"
    }
   ],
   "source": [
    "numeritos = [6, 72, 14, 3, 12]\n",
    "lista_de_nada = []\n",
    "\n",
    "def promedio (lista):\n",
    "    if len(lista) == 0: # En caso de que no haya datos, envío un mensaje\n",
    "        promedio = 'La lista de números no contiene datos, por favor incluye algunos para calcular el promedio'\n",
    "\n",
    "    else: \n",
    "        promedio = round(sum(lista) / len(lista), 2) #Hago la media y redondeo\n",
    "\n",
    "    return promedio\n",
    "\n",
    "# Compruebo el funcionamiento \n",
    "promedio (numeritos)\n",
    "promedio (lista_de_nada)"
   ]
  },
  {
   "cell_type": "markdown",
   "id": "fa49e8d7",
   "metadata": {},
   "source": [
    "11. Escribe un programa que pida al usuario que introduzca su edad. Si el usuario ingresa un valor no numérico o un valor fuera del rango esperado (por ejemplo, menor que 0 o mayor que 120), maneja las excepciones adecuadamente.\n"
   ]
  },
  {
   "cell_type": "code",
   "execution_count": null,
   "id": "311a7a21",
   "metadata": {},
   "outputs": [],
   "source": [
    "# Preguntar"
   ]
  },
  {
   "cell_type": "markdown",
   "id": "51830ca7",
   "metadata": {},
   "source": [
    "12. Genera una función que al recibir una frase devuelva una lista con la longitud de cada palabra. Usa la función map()."
   ]
  },
  {
   "cell_type": "code",
   "execution_count": null,
   "id": "b679c0e6",
   "metadata": {},
   "outputs": [],
   "source": [
    "# Preguntar a Ángel"
   ]
  },
  {
   "cell_type": "markdown",
   "id": "27d0337b",
   "metadata": {},
   "source": [
    "13. Genera una función la cual, para un conjunto de caracteres, devuelva una lista de tuplas con cada letra en mayúsculas y minúsculas. Las letras no pueden estar repetidas. Usa la función map()"
   ]
  },
  {
   "cell_type": "code",
   "execution_count": null,
   "id": "dcc9f5ba",
   "metadata": {},
   "outputs": [
    {
     "data": {
      "text/plain": [
       "[('E', 'e'),\n",
       " ('Q', 'q'),\n",
       " ('L', 'l'),\n",
       " ('R', 'r'),\n",
       " ('I', 'i'),\n",
       " ('A', 'a'),\n",
       " ('C', 'c'),\n",
       " ('U', 'u')]"
      ]
     },
     "execution_count": 234,
     "metadata": {},
     "output_type": "execute_result"
    }
   ],
   "source": [
    "# Genero una lista de palabras\n",
    "caracteres = 'frasecita'\n",
    "\n",
    "def letras_mayus_minus(conjunto):\n",
    "    \"\"\"\n",
    "    Devuelve una lista de tuplas con cada letra en mayúsculas y minúsculas sin repetir letras.\n",
    "\n",
    "    Args:\n",
    "        conjunto (str) = conjunto de caracteres\n",
    "\n",
    "    Return: \n",
    "        (list)\n",
    "    \"\"\"\n",
    "    # Creamos un conjunto para evitar duplicados\n",
    "    letras = set(conjunto)\n",
    "    \n",
    "    # Usamos map() para transformar cada letra en una tupla, especificando las mayúsculas y minúsculas\n",
    "    resultado = list(map(lambda c: (c.upper(), c.lower()), letras))\n",
    "    \n",
    "    return resultado\n",
    "\n",
    "# Compronación\n",
    "letras_mayus_minus(caracteres)\n",
    "letras_mayus_minus('cualquiera')"
   ]
  },
  {
   "cell_type": "markdown",
   "id": "dc120453",
   "metadata": {},
   "source": [
    "14. Crea una función que retorne las palabras de una lista de palabras que comience con una letra en especifico. Usa la función filter()."
   ]
  },
  {
   "cell_type": "code",
   "execution_count": null,
   "id": "e5b7be2c",
   "metadata": {},
   "outputs": [
    {
     "data": {
      "text/plain": [
       "['correr', 'casco']"
      ]
     },
     "execution_count": 239,
     "metadata": {},
     "output_type": "execute_result"
    }
   ],
   "source": [
    "# Genero una lista de palabras \n",
    "palabras = [\"correr\", \"programar\", \"casco\", \"portada\", \"juego\", \"pecera\"]\n",
    "\n",
    "def palabras_por_letra(lista, letra):\n",
    "    \"\"\"\n",
    "    Retorna las palabras que comienzan con una letra específica.\n",
    "    \n",
    "    \"\"\"\n",
    "    # startswith() selecciona las cadenas que empiecen con la letra seleccionada\n",
    "    # la lambada repite eso con toda la lista y filter evalua los true para que list los ponga en una nueva lista\n",
    "    return list(filter(lambda palabra: palabra.startswith(letra), lista))\n",
    "\n",
    "# Comprobación\n",
    "palabras_por_letra(palabras, 'p')\n",
    "palabras_por_letra(palabras, 'c')\n"
   ]
  },
  {
   "cell_type": "markdown",
   "id": "dd2403ed",
   "metadata": {},
   "source": [
    "15. Crea una función lambda que sume 3 a cada número de una lista dada."
   ]
  },
  {
   "cell_type": "code",
   "execution_count": null,
   "id": "a04886bc",
   "metadata": {},
   "outputs": [
    {
     "data": {
      "text/plain": [
       "[4, 5, 6, 7, 8]"
      ]
     },
     "execution_count": 232,
     "metadata": {},
     "output_type": "execute_result"
    }
   ],
   "source": [
    "# Creo una lista de números para la comprobación\n",
    "numeros = [1, 2, 3, 4, 5]\n",
    "def sumar_3 (numeros):\n",
    "    nueva_lista = list(map(lambda x: x + 3, numeros))\n",
    "    return nueva_lista\n",
    "# Compruebo el funcionamiento\n",
    "sumar_3 (numeros)\n",
    "\n",
    "# En una sola línea\n",
    "nueva_lista = list(map(lambda x: x + 3, numeros))\n",
    "print(nueva_lista)\n"
   ]
  },
  {
   "cell_type": "markdown",
   "id": "485b4b9c",
   "metadata": {},
   "source": [
    "16. Escribe una función que tome una cadena de texto y un número entero n como parámetros y devuelva una lista de todas las palabras que sean más largas que n. Usa la función filter()"
   ]
  },
  {
   "cell_type": "code",
   "execution_count": null,
   "id": "1cc8e7fd",
   "metadata": {},
   "outputs": [
    {
     "name": "stdout",
     "output_type": "stream",
     "text": [
      "['Tengo', 'perro', 'largo']\n"
     ]
    }
   ],
   "source": [
    "# Genero una cadena para la comprobación\n",
    "frase = \"Tengo un perro de pelo largo\"\n",
    "\n",
    "def palabras_mas_largas(cadena, n):\n",
    "    \"\"\"\n",
    "    De una lista de strings devuelve las de longitud mayor que n\n",
    "\n",
    "    Args (str): \n",
    "        cadena de palabras\n",
    "\n",
    "    Return (list(str)):\n",
    "        palabras con len>n\n",
    "    \"\"\"\n",
    "    palabras = cadena.split()\n",
    "    return list(filter(lambda palabra: len(palabra) > n, palabras))\n",
    "\n",
    "\n",
    "# Comprobación\n",
    "print(palabras_mas_largas(frase, 4))\n"
   ]
  },
  {
   "cell_type": "markdown",
   "id": "dc7f9ea0",
   "metadata": {},
   "source": [
    "17. Crea una función que tome una lista de dígitos y devuelva el número correspondiente. Por ejemplo, [5,7,2] corresponde al número quinientos setenta y dos (572). Usa la función reduce()."
   ]
  },
  {
   "cell_type": "code",
   "execution_count": null,
   "id": "585bc332",
   "metadata": {},
   "outputs": [
    {
     "data": {
      "text/plain": [
       "3217"
      ]
     },
     "execution_count": 263,
     "metadata": {},
     "output_type": "execute_result"
    }
   ],
   "source": [
    "# Creo la lista para la comprobación\n",
    "numeros_separados = [3, 2, 1, 7]\n",
    "\n",
    "# Primero importo la función reduce\n",
    "from functools import reduce\n",
    "\n",
    "def juntar_numeros (lista): \n",
    "    \"\"\" Une en uno sólo los números de una lista\n",
    "\n",
    "    Args:\n",
    "        lista (list): lista de números separados\n",
    "\n",
    "    Return:\n",
    "        numero unido (int)\n",
    "    \"\"\"\n",
    "    \n",
    "    return reduce(lambda x,y:x*10 + y, lista)\n",
    "#De esta forma se coje el dígito de la lsita y se multiplica *10 sumando así el siguiente, resultando unidos\n",
    "\n",
    "juntar_numeros (numeros_separados)\n"
   ]
  },
  {
   "cell_type": "markdown",
   "id": "af6a3a1a",
   "metadata": {},
   "source": [
    "18. Escribe un programa en Python que cree una lista de diccionarios que contenga información de estudiantes (nombre, edad, calificación) y use la función filter para extraer a los estudiantes con una calificación mayor o igual a 90. Usa la función filter()"
   ]
  },
  {
   "cell_type": "code",
   "execution_count": null,
   "id": "f0f32ac2",
   "metadata": {},
   "outputs": [],
   "source": [
    "# Ángelllllllllllllllllllllllll"
   ]
  },
  {
   "cell_type": "markdown",
   "id": "2858cfa8",
   "metadata": {},
   "source": [
    "19. Crea una función lambda que filtre los números impares de una lista dada."
   ]
  },
  {
   "cell_type": "code",
   "execution_count": null,
   "id": "ae3975db",
   "metadata": {},
   "outputs": [
    {
     "data": {
      "text/plain": [
       "[1, 3, 5, 7, 9]"
      ]
     },
     "execution_count": 271,
     "metadata": {},
     "output_type": "execute_result"
    }
   ],
   "source": [
    "# Creo la lista para la comrpobación\n",
    "numeros = [1, 2, 3, 4, 5, 6, 7, 8, 9, 10]\n",
    "\n",
    "def impares (numeros): \n",
    "    numeros_impares = list(filter(lambda x: x % 2 != 0, numeros))\n",
    "    # La lambda identidica los números pares o impares en función de la división\n",
    "    #filter selecciona los que cimplen la condición y con list se pasan al formato lista\n",
    "    return numeros_impares\n",
    "\n",
    "#Comprobación\n",
    "impares (numeros)"
   ]
  },
  {
   "cell_type": "markdown",
   "id": "1569e0e4",
   "metadata": {},
   "source": [
    "20. Para una lista con elementos tipo integer y string obtén una nueva lista sólo con los valores int. Usa la función\n",
    "filter()"
   ]
  },
  {
   "cell_type": "code",
   "execution_count": null,
   "id": "caae5b50",
   "metadata": {},
   "outputs": [
    {
     "data": {
      "text/plain": [
       "[7, 32, 5, 11]"
      ]
     },
     "execution_count": 278,
     "metadata": {},
     "output_type": "execute_result"
    }
   ],
   "source": [
    "# Creo la lista para la comprobación\n",
    "lista_variada = ['cadena', 7, 3.2, 'cadenita', 32, 'cadenota', 5, 11] \n",
    "\n",
    "def seleccionar_int (lista):\n",
    "    \"\"\" Selecciona los valores int de la lista y crea una nueva con estos\n",
    "\n",
    "    Args:\n",
    "        lista (lista de int y str): Lista de elementos int y str\n",
    "    Return:\n",
    "        lsita_int (list): lsita de sólo int\n",
    "    \"\"\"\n",
    "    #isinstance evalua si el elemento es int, si es true filter lo acepta para pasarlo a la lista\n",
    "    return list(filter(lambda elemento: isinstance(elemento, int), lista))\n",
    "\n",
    "seleccionar_int (lista_variada)"
   ]
  },
  {
   "cell_type": "markdown",
   "id": "21c11331",
   "metadata": {},
   "source": [
    "21. Crea una función que calcule el cubo de un número dado mediante una función lambda"
   ]
  },
  {
   "cell_type": "code",
   "execution_count": null,
   "id": "d3c1a1d2",
   "metadata": {},
   "outputs": [
    {
     "data": {
      "text/plain": [
       "<function __main__.cubo_de_x.<locals>.<lambda>(x)>"
      ]
     },
     "execution_count": 285,
     "metadata": {},
     "output_type": "execute_result"
    }
   ],
   "source": [
    "def cubo_de_x (x):\n",
    "    \"\"\" Calcula el cubo de un número\n",
    "    Args:\n",
    "        x (int, float): numero cualquiera\n",
    "    Return \n",
    "        cubo (int, float)\n",
    "    \"\"\"\n",
    "    return lambda x: x**3 \n",
    "\n",
    "cubo_de_x(3)"
   ]
  },
  {
   "cell_type": "markdown",
   "id": "8ac7b2ed",
   "metadata": {},
   "source": [
    "22. Dada una lista numérica, obtén el producto total de los valores de dicha lista.\n",
    "Usa la función reduce()."
   ]
  },
  {
   "cell_type": "code",
   "execution_count": null,
   "id": "7e1e03d3",
   "metadata": {},
   "outputs": [
    {
     "data": {
      "text/plain": [
       "162"
      ]
     },
     "execution_count": 287,
     "metadata": {},
     "output_type": "execute_result"
    }
   ],
   "source": [
    "lista_numerica = [1, 3, 6, 9]\n",
    "def producto_total (lista_numeros):\n",
    "    \"\"\"Multiplica todos los numeros de una lsita entre sí\n",
    "\n",
    "    Args:\n",
    "        lista_numeros (lsit): lista sólo con números\n",
    "    Return:\n",
    "        producto (int, float): un único número\n",
    "    \"\"\"\n",
    "    # Reduce importada previamente\n",
    "    # La lambda multiplica los elementos y reduce repite este en todo el iterable\n",
    "    return reduce(lambda x, y: x*y, lista_numeros) \n",
    "producto_total (lista_numerica)"
   ]
  },
  {
   "cell_type": "markdown",
   "id": "8d8ffaac",
   "metadata": {},
   "source": [
    "23. Concatena una lista de palabras.Usa la función reduce()."
   ]
  },
  {
   "cell_type": "code",
   "execution_count": 292,
   "id": "34f9b720",
   "metadata": {},
   "outputs": [
    {
     "data": {
      "text/plain": [
       "'voy a concatenar esto'"
      ]
     },
     "execution_count": 292,
     "metadata": {},
     "output_type": "execute_result"
    }
   ],
   "source": [
    "lista_de_palabras = ['voy','a', 'concatenar', 'esto']\n",
    "\n",
    "def concatenar_palabras (lista_a_concatenar):\n",
    "    \"\"\" De una lista de cadenas devuelve una cadena única con espacios entre estas\n",
    "    Args:\n",
    "        lista_a_concatenar (list): lista de str\n",
    "    Return:\n",
    "        lista_concatenada (str): cadena unida\n",
    "    \"\"\"\n",
    "    lista_concatenada = reduce(lambda x, y: str(x) + ' ' + str(y), lista_a_concatenar)\n",
    "    # Cambio el tipo de los elementos de la lsita a str y unos uno con un espacio de por medio\n",
    "    return lista_concatenada\n",
    "\n",
    "# Comprobación\n",
    "concatenar_palabras(lista_de_palabras)"
   ]
  },
  {
   "cell_type": "markdown",
   "id": "174910ad",
   "metadata": {},
   "source": [
    "24. Calcula la diferencia total en los valores de una lista. Usa la función reduce()."
   ]
  },
  {
   "cell_type": "code",
   "execution_count": 298,
   "id": "72f96ae7",
   "metadata": {},
   "outputs": [
    {
     "name": "stdout",
     "output_type": "stream",
     "text": [
      "-25\n"
     ]
    }
   ],
   "source": [
    "list = [3, 5, 7, 4, 2, 10]\n",
    "#La lambda calcula la difernecia entre los primeros valores de la lista y reduce lo repite en todos los elementos existentes\n",
    "print (reduce (lambda x, y: x - y, list))\n"
   ]
  },
  {
   "cell_type": "markdown",
   "id": "165ff607",
   "metadata": {},
   "source": [
    "25. Crea una función que cuente el número de caracteres en una cadena de texto dada."
   ]
  },
  {
   "cell_type": "code",
   "execution_count": null,
   "id": "ecb84382",
   "metadata": {},
   "outputs": [
    {
     "data": {
      "text/plain": [
       "26"
      ]
     },
     "execution_count": 296,
     "metadata": {},
     "output_type": "execute_result"
    }
   ],
   "source": [
    "variable_cadena = 'cadena de texto cualquiera'\n",
    "\n",
    "def contar_caracteres (cadena):\n",
    "    return len(cadena)\n",
    "\n",
    "#Comprobación con variable y cadena directamente\n",
    "contar_caracteres ('cinco')\n",
    "contar_caracteres (variable_cadena)"
   ]
  }
 ],
 "metadata": {
  "kernelspec": {
   "display_name": "Python 3",
   "language": "python",
   "name": "python3"
  },
  "language_info": {
   "codemirror_mode": {
    "name": "ipython",
    "version": 3
   },
   "file_extension": ".py",
   "mimetype": "text/x-python",
   "name": "python",
   "nbconvert_exporter": "python",
   "pygments_lexer": "ipython3",
   "version": "3.13.1"
  }
 },
 "nbformat": 4,
 "nbformat_minor": 5
}
