{
 "cells": [
  {
   "cell_type": "markdown",
   "id": "7e878c9e",
   "metadata": {},
   "source": [
    "1. Escribe una función que reciba una cadena de texto como parámetro y devuelva un diccionario con las frecuencias de cada letra en la cadena. Los espacios no deben ser considerados."
   ]
  },
  {
   "cell_type": "code",
   "execution_count": 63,
   "id": "b652934a",
   "metadata": {},
   "outputs": [
    {
     "data": {
      "text/plain": [
       "{'c': 1,\n",
       " 'a': 3,\n",
       " 'd': 2,\n",
       " 'e': 3,\n",
       " 'n': 1,\n",
       " 'i': 1,\n",
       " 't': 1,\n",
       " 'p': 1,\n",
       " 'r': 1,\n",
       " 'u': 1,\n",
       " 'b': 1}"
      ]
     },
     "execution_count": 63,
     "metadata": {},
     "output_type": "execute_result"
    }
   ],
   "source": [
    "# Creo una función con un parámetro, la cadena de texto a introducir\n",
    "def str_a_dict_frecuencias (cadena: str) -> dict[str, int]:\n",
    "    \"\"\"Esta función \n",
    "\n",
    "    Args:\n",
    "        cadena (str): cadena de texto que queremos transformar\n",
    "\n",
    "    Returns: \n",
    "        dicc: diccionario con las frecuencias de cada letra de la cadena\n",
    "\n",
    "    Nota: no tiene en cuenta los espacios\n",
    "    \"\"\"\n",
    "    #  creo el diccionario donde se agruparán las frecuencias\n",
    "    frecuencias_cadena = {}\n",
    "    \n",
    "    # Con un bucle se inspecciona cada caracter y se cuenta las veces que aparece (su frecuencia)\n",
    "    for caracter in cadena:\n",
    "        if caracter != \" \":  # Se ignoran los espacios\n",
    "            if caracter in frecuencias_cadena:\n",
    "                frecuencias_cadena[caracter] += 1\n",
    "            else:\n",
    "                frecuencias_cadena[caracter] = 1\n",
    "    # El return será el resultado deseado que quiero que la función devuelva\n",
    "    return frecuencias_cadena\n",
    "\n",
    "\n",
    "# Compruebo el funcionamiento \n",
    "str_a_dict_frecuencias ('cadenita de prueba')\n"
   ]
  },
  {
   "cell_type": "markdown",
   "id": "40efaccc",
   "metadata": {},
   "source": [
    "2. Dada una lista de números, obtén una nueva lista con el doble de cada valor. Usa la función map()"
   ]
  },
  {
   "cell_type": "code",
   "execution_count": 57,
   "id": "ff13e8e5",
   "metadata": {},
   "outputs": [
    {
     "name": "stdout",
     "output_type": "stream",
     "text": [
      "[2, 8, 14, 64, 12]\n",
      "[2, 8, 14, 64, 12]\n"
     ]
    }
   ],
   "source": [
    "# Creo una lista de números de la que partir\n",
    "lista_inicial = [1,4,7,32,6]\n",
    "\n",
    "# Creo una función que multiplique por 2 un número\n",
    "def multiplicar_por_2 (numero):\n",
    "    \"\"\"Multiplicar *2\n",
    "\n",
    "    Args:\n",
    "        numero (int, float)\n",
    "    \n",
    "    Returns:\n",
    "        numero multiplicado (float)\n",
    "\n",
    "    \"\"\"\n",
    "    return numero*2\n",
    " \n",
    "# La función map toma una función y un iterable, la función será multiplicar*2 y el interable la lista inicial\n",
    "lista_2 = list(map(multiplicar_por_2, lista_inicial))\n",
    "#incluyo list(map(...)) porque si no la función map no devuelve la lista como tal\n",
    "\n",
    "# Compruebo el funcionamiento\n",
    "print (lista_2)\n",
    "\n",
    "# Al ser una función tan simple puedo optimizarlo haciendo una lambda \n",
    "ejercicio_2 = list(map(lambda numero: numero*2, lista_inicial))\n",
    "\n",
    "print (ejercicio_2)"
   ]
  },
  {
   "cell_type": "markdown",
   "id": "b45cc366",
   "metadata": {},
   "source": [
    "3. Escribe una función que tome una lista de palabras y una palabra objetivo como parámetros. La función debe devolver una lista con todas las palabras de la lista original que contengan la palabra objetivo."
   ]
  },
  {
   "cell_type": "code",
   "execution_count": 62,
   "id": "18d9c5ff",
   "metadata": {},
   "outputs": [
    {
     "name": "stdout",
     "output_type": "stream",
     "text": [
      "['precepto', 'previo', 'expresso', 'precocinado']\n"
     ]
    }
   ],
   "source": [
    "# Creo una lista de palabras\n",
    "lista_palabras = ['precepto', 'previo', 'permiso', 'expresso', 'precocinado','perfecto']\n",
    "\n",
    "# La palabra objetivo será 'pre'\n",
    "def lista_palabras_incluidas (lista, palabra_objetivo):\n",
    "\n",
    "    \"\"\" Esta función coge una lista de palabras y selecciona aquellas en las que\n",
    "    se encuentre la palabra objetivo incluida, las devuelve en otra lista\n",
    "\n",
    "    Args:\n",
    "        lista (list)\n",
    "        palabra_objetivo (str)\n",
    "\n",
    "    Returns: \n",
    "        lista de palabras que contienen la objetivo (list)\n",
    "    \"\"\"\n",
    "    # Creo la lista que incluirá las palabras que contienen la palabra objetivo\n",
    "    palabras_continentes = []\n",
    "\n",
    "    for palabra in lista: # Hago que la función pase por todas las palabras de la lista insertada\n",
    "        if palabra_objetivo in palabra: palabras_continentes.append(palabra) \n",
    "            # Y así incluya las que contengan la palabra objetivo\n",
    "        else: pass # Las que no la incluyan no entrarán en la nueva lista que crea la función\n",
    "\n",
    "    return palabras_continentes \n",
    "\n",
    "# Compruebo el funcionamiento\n",
    "lista_palabras_incluidas (lista_palabras, 'pre')\n",
    "\n",
    "# Al ser una función simple puedo optimizarlo usando una lambda y filter\n",
    "ejercicio_3 = list(filter(lambda palabra:'pre' in palabra, lista_palabras))\n",
    "\n",
    "print(ejercicio_3)"
   ]
  },
  {
   "cell_type": "markdown",
   "id": "a4b829e2",
   "metadata": {},
   "source": [
    "4. Genera una función que calcule la diferencia entre los valores de dos listas. Usa la función map()"
   ]
  },
  {
   "cell_type": "code",
   "execution_count": 55,
   "id": "f3851558",
   "metadata": {},
   "outputs": [
    {
     "name": "stdout",
     "output_type": "stream",
     "text": [
      "[-2, -4, -4, 7, 9]\n",
      "[-2, -4, -4, 7, 9]\n"
     ]
    }
   ],
   "source": [
    "# Genero dos listas\n",
    "\n",
    "lista_valores_1 = [1, 5, 7, 9, 13]\n",
    "\n",
    "lista_valores_2 = [3, 9, 11, 2, 4]\n",
    "\n",
    "# Creo la función que calculará la diferencia entre los valores de las listas\n",
    "# Quiero restar cada valor y que map lo repita en los iterables\n",
    "def resta (x, y):\n",
    "    \"\"\"_ Calcula la diferencia entre los valores de dos listas\n",
    "        Args:\n",
    "            lista 1 (int,float)\n",
    "            lista 2 (int, float)\n",
    "\n",
    "        Returns: \n",
    "            Diferencia (int, float)\n",
    "    \"\"\"\n",
    "    # hago resta de valor 1 de cada lista y hago map \n",
    "    return  x - y\n",
    "\n",
    "# Compruebo el funcionamiento\n",
    "print(list(map(resta, lista_valores_1, lista_valores_2)))\n",
    "\n",
    "# Al ser una función tan simple puedo mejorarlo haciendo una lambda\n",
    "\n",
    "ejercicio_4 = list(map(lambda x, y : x-y, lista_valores_1, lista_valores_2))\n",
    "\n",
    "print (ejercicio_4)\n"
   ]
  },
  {
   "cell_type": "markdown",
   "id": "16f157e9",
   "metadata": {},
   "source": [
    "5. Ecribe una función que tome una lista de números como parámetro y un valor opcional nota_aprobado, que por defecto es 5. La función debe calcular la media de los números en la lista y determinar si la media es mayor o igual que nota aprobado. Si es así, el estado será \"aprobado\", de lo contrario, será \"suspenso\". La función debe devolver una tupla que contenga la media y el estado.\n"
   ]
  },
  {
   "cell_type": "code",
   "execution_count": 82,
   "id": "c0dd0fc4",
   "metadata": {},
   "outputs": [
    {
     "data": {
      "text/plain": [
       "(5.46, 'suspenso')"
      ]
     },
     "execution_count": 82,
     "metadata": {},
     "output_type": "execute_result"
    }
   ],
   "source": [
    "#Genero una la lista de calificaciones de un grupo imaginario y establezco la nota del aprobado\n",
    "calificaciones = [5, 3, 7.2, 8.9, 10, 2, 1.5, 4, 6.3, 7, 5.2]\n",
    "\n",
    "def media_aprobada_o_no (calificaciones, nota_aprobado = 5):\n",
    "    \"\"\"Esta funcion hace la media de las calificaciones y las compara con la nota mínima para aprobar\n",
    "    para así detreminar si globalmente se aprueba o no al grupo.\n",
    "    \n",
    "    Args:\n",
    "        (list): lista de calificaciones.\n",
    "        (int, float): valor por defecto 5 (posible añadir otro), nota con la que se aprueba.\n",
    "\n",
    "    Returns: \n",
    "        (tuple): media de calificaciones y si se aprueba o no globalmente (media, estado)\n",
    "    \"\"\"\n",
    "    # Calculo la media redondeado a 2 decimales\n",
    "    media_global = round(sum (calificaciones) / len (calificaciones), 2)\n",
    "    # Creo el estado aprobado o suspenso en función de la media global\n",
    "    if media_global >= nota_aprobado:\n",
    "        estado = 'aprobado'\n",
    "    else:\n",
    "        estado = 'suspenso'\n",
    "    # El return así escrito devuelve automáticamente una tupla\n",
    "    return media_global, estado  \n",
    "\n",
    "# Compruebo el funcionamiento\n",
    "media_aprobada_o_no (calificaciones)\n",
    "\n",
    "# Pruebo ahora que la nota de aprobado podría cambiarse\n",
    "media_aprobada_o_no (calificaciones, 7)"
   ]
  },
  {
   "cell_type": "markdown",
   "id": "ad04dfca",
   "metadata": {},
   "source": [
    "6. Escribe una función que calcule el factorial de un número de manera recursiva."
   ]
  },
  {
   "cell_type": "code",
   "execution_count": 118,
   "id": "fc69c616",
   "metadata": {},
   "outputs": [
    {
     "data": {
      "text/plain": [
       "120"
      ]
     },
     "execution_count": 118,
     "metadata": {},
     "output_type": "execute_result"
    }
   ],
   "source": [
    "def factorial (numero):\n",
    "    \"\"\"Función recursiva que calcula el factorial de un número\n",
    "\n",
    "    Args:\n",
    "        numero (int)\n",
    "\n",
    "    Return: \n",
    "        factorial (int)\n",
    "    \"\"\"\n",
    "    # Como el factorial de 0 es por definición 1, agrego este caso concreto\n",
    "    if numero == 0: \n",
    "       numero_factorial = 1\n",
    "    \n",
    "    else:\n",
    "           numero_factorial = numero * factorial (numero - 1)\n",
    "     \n",
    "    return numero_factorial\n",
    "\n",
    "# Compruebo el funcionamiento\n",
    "factorial (5)"
   ]
  },
  {
   "cell_type": "markdown",
   "id": "42613967",
   "metadata": {},
   "source": [
    "7. Genera una función que convierta una lista de tuplas a una lista de strings. Usa la función map()."
   ]
  },
  {
   "cell_type": "code",
   "execution_count": null,
   "id": "5a555ecb",
   "metadata": {},
   "outputs": [],
   "source": [
    "def tupla_a_lista (tupla_inicial (tuple) -> list):\n",
    "    \"\"\"_summary_\n",
    "\n",
    "    Args:\n",
    "        tupla (_type_): _description_\n",
    "    \"\"\"\n",
    "    nueva_lista = []\n",
    "\n",
    "\n",
    "    return nueva_lista"
   ]
  },
  {
   "cell_type": "markdown",
   "id": "3e246c8b",
   "metadata": {},
   "source": [
    "8. Escribe un programa que pida al usuario dos números e intente dividirlos. Si el usuario ingresa un valor no numérico o intenta dividir por cero, maneja esas excepciones de manera adecuada. Asegúrate de mostrar un mensaje indicando si la división fue exitosa o no."
   ]
  },
  {
   "cell_type": "code",
   "execution_count": null,
   "id": "25b082a9",
   "metadata": {},
   "outputs": [],
   "source": []
  },
  {
   "cell_type": "markdown",
   "id": "61857206",
   "metadata": {},
   "source": [
    "9. Escribe una función que tome una lista de nombres de mascotas como parámetro y devuelva una nueva lista excluyendo ciertas mascotas prohibidas en España. La lista de mascotas a excluir es [\"Mapache\", \"Tigre\", \"Serpiente Pitón\", \"Cocodrilo\", \"Oso\"].Usa la función filter()"
   ]
  },
  {
   "cell_type": "code",
   "execution_count": null,
   "id": "2e3db6ea",
   "metadata": {},
   "outputs": [
    {
     "data": {
      "text/plain": [
       "['Cabra', 'Perro', 'Vaca', 'Gato']"
      ]
     },
     "execution_count": 151,
     "metadata": {},
     "output_type": "execute_result"
    }
   ],
   "source": [
    "# Creo una lista de mascotas\n",
    "mascotas_varias = [\"Cabra\", \"Perro\", \"Tigre\", \"Vaca\", \"Serpiente Pitón\", \"Gato\", \"Cocodrilo\", \"Oso\"]\n",
    "\n",
    "def filtrar_mascotas(mascotas):\n",
    "    mascotas_prohibidas = [\"Mapache\", \"Tigre\", \"Serpiente Pitón\", \"Cocodrilo\", \"Oso\"]\n",
    "    # filter mantiene solo los elementos que cumplen la condición\n",
    "    return list(filter(lambda elemento: elemento not in mascotas_prohibidas, mascotas))\n",
    "\n",
    "#Compruebo el funcionamiento \n",
    "filtrar_mascotas (mascotas_varias)"
   ]
  },
  {
   "cell_type": "markdown",
   "id": "2bc73fe0",
   "metadata": {},
   "source": [
    "10. Escribe una función que reciba una lista de números y calcule su promedio. Si la lista está vacía, lanza una\n",
    "excepción personalizada y maneja el error adecuadamente."
   ]
  },
  {
   "cell_type": "code",
   "execution_count": null,
   "id": "be89dd8c",
   "metadata": {},
   "outputs": [],
   "source": []
  },
  {
   "cell_type": "markdown",
   "id": "fa49e8d7",
   "metadata": {},
   "source": [
    "11. Escribe un programa que pida al usuario que introduzca su edad. Si el usuario ingresa un valor no numérico o un\n",
    "valor fuera del rango esperado (por ejemplo, menor que 0 o mayor que 120), maneja las excepciones\n",
    "adecuadamente.\n"
   ]
  },
  {
   "cell_type": "code",
   "execution_count": null,
   "id": "311a7a21",
   "metadata": {},
   "outputs": [],
   "source": []
  },
  {
   "cell_type": "markdown",
   "id": "51830ca7",
   "metadata": {},
   "source": [
    "12. Genera una función que al recibir una frase devuelva una lista con la longitud de cada palabra. Usa la función map()."
   ]
  },
  {
   "cell_type": "code",
   "execution_count": null,
   "id": "b679c0e6",
   "metadata": {},
   "outputs": [],
   "source": []
  },
  {
   "cell_type": "markdown",
   "id": "27d0337b",
   "metadata": {},
   "source": [
    "13. Genera una función la cual, para un conjunto de caracteres, devuelva una lista de tuplas con cada letra en\n",
    "mayúsculas y minúsculas. Las letras no pueden estar repetidas .Usa la función map()"
   ]
  },
  {
   "cell_type": "code",
   "execution_count": null,
   "id": "dcc9f5ba",
   "metadata": {},
   "outputs": [],
   "source": []
  },
  {
   "cell_type": "markdown",
   "id": "dc120453",
   "metadata": {},
   "source": [
    "14. Crea una función que retorne las palabras de una lista de palabras que comience con una letra en especifico. Usa la función filter()."
   ]
  },
  {
   "cell_type": "code",
   "execution_count": null,
   "id": "e5b7be2c",
   "metadata": {},
   "outputs": [],
   "source": []
  },
  {
   "cell_type": "markdown",
   "id": "dd2403ed",
   "metadata": {},
   "source": [
    "15. Crea una función lambda que sume 3 a cada número de una lista dada.\n"
   ]
  },
  {
   "cell_type": "code",
   "execution_count": null,
   "id": "a04886bc",
   "metadata": {},
   "outputs": [],
   "source": []
  },
  {
   "cell_type": "markdown",
   "id": "485b4b9c",
   "metadata": {},
   "source": [
    "16. Escribe una función que tome una cadena de texto y un número entero n como parámetros y devuelva una lista de\n",
    "todas las palabras que sean más largas que n. Usa la función filter()\n"
   ]
  },
  {
   "cell_type": "code",
   "execution_count": null,
   "id": "9180fe59",
   "metadata": {},
   "outputs": [],
   "source": []
  },
  {
   "cell_type": "markdown",
   "id": "dc7f9ea0",
   "metadata": {},
   "source": [
    "17. Crea una función que tome una lista de dígitos y devuelva el número correspondiente. Por ejemplo, [5,7,2] corresponde al número quinientos setenta y dos (572). Usa la función reduce()"
   ]
  },
  {
   "cell_type": "code",
   "execution_count": null,
   "id": "585bc332",
   "metadata": {},
   "outputs": [],
   "source": []
  },
  {
   "cell_type": "markdown",
   "id": "af6a3a1a",
   "metadata": {},
   "source": [
    "18. Escribe un programa en Python que cree una lista de diccionarios que contenga información de estudiantes\n",
    "(nombre, edad, calificación) y use la función filter para extraer a los estudiantes con una calificación mayor o igual a\n",
    "90. Usa la función filter()"
   ]
  },
  {
   "cell_type": "code",
   "execution_count": null,
   "id": "f0f32ac2",
   "metadata": {},
   "outputs": [],
   "source": []
  },
  {
   "cell_type": "markdown",
   "id": "2858cfa8",
   "metadata": {},
   "source": [
    "19. Crea una función lambda que filtre los números impares de una lista dada."
   ]
  },
  {
   "cell_type": "code",
   "execution_count": null,
   "id": "ae3975db",
   "metadata": {},
   "outputs": [],
   "source": []
  },
  {
   "cell_type": "markdown",
   "id": "1569e0e4",
   "metadata": {},
   "source": [
    "20. Para una lista con elementos tipo integer y string obtén una nueva lista sólo con los valores int. Usa la función\n",
    "filter()"
   ]
  },
  {
   "cell_type": "code",
   "execution_count": null,
   "id": "caae5b50",
   "metadata": {},
   "outputs": [],
   "source": []
  },
  {
   "cell_type": "markdown",
   "id": "21c11331",
   "metadata": {},
   "source": [
    "21. Crea una función que calcule el cubo de un número dado mediante una función lambda\n"
   ]
  },
  {
   "cell_type": "code",
   "execution_count": null,
   "id": "d3c1a1d2",
   "metadata": {},
   "outputs": [],
   "source": []
  },
  {
   "cell_type": "markdown",
   "id": "8ac7b2ed",
   "metadata": {},
   "source": [
    "22. Dada una lista numérica, obtén el producto total de los valores de dicha lista.\n",
    "Usa la función reduce()."
   ]
  },
  {
   "cell_type": "code",
   "execution_count": null,
   "id": "7e1e03d3",
   "metadata": {},
   "outputs": [],
   "source": []
  },
  {
   "cell_type": "markdown",
   "id": "8d8ffaac",
   "metadata": {},
   "source": [
    "23. Concatena una lista de palabras.Usa la función reduce()."
   ]
  },
  {
   "cell_type": "code",
   "execution_count": null,
   "id": "34f9b720",
   "metadata": {},
   "outputs": [],
   "source": []
  },
  {
   "cell_type": "markdown",
   "id": "174910ad",
   "metadata": {},
   "source": [
    "24. Calcula la diferencia total en los valores de una lista. Usa la función reduce() .\n"
   ]
  },
  {
   "cell_type": "code",
   "execution_count": null,
   "id": "72f96ae7",
   "metadata": {},
   "outputs": [],
   "source": []
  },
  {
   "cell_type": "markdown",
   "id": "165ff607",
   "metadata": {},
   "source": [
    "25. Crea una función que cuente el número de caracteres en una cadena de texto dada."
   ]
  },
  {
   "cell_type": "code",
   "execution_count": null,
   "id": "ecb84382",
   "metadata": {},
   "outputs": [],
   "source": []
  }
 ],
 "metadata": {
  "kernelspec": {
   "display_name": "Python 3",
   "language": "python",
   "name": "python3"
  },
  "language_info": {
   "codemirror_mode": {
    "name": "ipython",
    "version": 3
   },
   "file_extension": ".py",
   "mimetype": "text/x-python",
   "name": "python",
   "nbconvert_exporter": "python",
   "pygments_lexer": "ipython3",
   "version": "3.13.1"
  }
 },
 "nbformat": 4,
 "nbformat_minor": 5
}
